{
 "cells": [
  {
   "cell_type": "code",
   "execution_count": 12,
   "metadata": {},
   "outputs": [
    {
     "name": "stdout",
     "output_type": "stream",
     "text": [
      "_________________________________________________________________\n",
      "Layer (type)                 Output Shape              Param #   \n",
      "=================================================================\n",
      "conv2d_16 (Conv2D)           (None, 26, 26, 32)        320       \n",
      "_________________________________________________________________\n",
      "max_pooling2d_11 (MaxPooling (None, 13, 13, 32)        0         \n",
      "_________________________________________________________________\n",
      "conv2d_17 (Conv2D)           (None, 11, 11, 64)        18496     \n",
      "_________________________________________________________________\n",
      "max_pooling2d_12 (MaxPooling (None, 5, 5, 64)          0         \n",
      "_________________________________________________________________\n",
      "conv2d_18 (Conv2D)           (None, 3, 3, 64)          36928     \n",
      "=================================================================\n",
      "Total params: 55,744\n",
      "Trainable params: 55,744\n",
      "Non-trainable params: 0\n",
      "_________________________________________________________________\n"
     ]
    }
   ],
   "source": [
    "################ 5.0 Loading the MNIST dataset in Keras #####################\n",
    "from keras.datasets import mnist\n",
    "from keras import models\n",
    "from keras import layers\n",
    "from keras.utils import to_categorical\n",
    "\n",
    "(train_images, train_labels), (test_images, test_labels) = mnist.load_data()\n",
    "\n",
    "################ 5.1 Instantiating a small convnet ################################\n",
    "\n",
    "model = models.Sequential()\n",
    "model.add(layers.Conv2D(32, (3, 3), activation='relu', input_shape=(28, 28, 1))) \n",
    "## the first convolution layer takes a feature map of size (28,28, 1) and outputs a feature map of size (26, 26, 32):\n",
    "## (3, 3) - Size of the patches extracted from the inputs\n",
    "## 32 - Depth of the output feature map, i. e. number of filters computed by the convolution.\n",
    "## In Keras Conv2D layers, the first arguments passed to the layer Conv2D(output_depth, (window_height, window_width))\n",
    "\n",
    "model.add(layers.MaxPool2D((2, 2)))\n",
    "## the max-pooling operation halves the feature map (26 × 26) into 13 × 13\n",
    "## That’s the role of max pooling, aggressively downsample feature maps\n",
    "## Max pooling consists of extracting windows from the input feature maps & outputting the max value of each channel.\n",
    "## It’s conceptually similar to convolution, Except that instead of transforming local patches via a learned linear \n",
    "## transformation they’re transformed via a hardcoded tensor operation max\n",
    "## max pooling is usually done with 2 × 2 windows & stride 2 in order to downsample the feature maps by a factor of 2\n",
    "\n",
    "model.add(layers.Conv2D(64, (3, 3), activation='relu'))\n",
    "model.add(layers.MaxPool2D((2, 2)))\n",
    "model.add(layers.Conv2D(64, (3, 3), activation='relu'))\n",
    "\n",
    "# model.summary()\n",
    "\n",
    "################ 5.2 Adding a classifier on top of the convnet #####################\n",
    "\n",
    "model.add(layers.Flatten())\n",
    "model.add(layers.Dense(64, activation='relu'))\n",
    "model.add(layers.Dense(10, activation='softmax'))\n",
    "\n",
    "# model.summary()\n",
    "\n",
    "\n",
    "################ 5.3 Training the convnet on MNIST images #####################\n",
    "\n",
    "train_images = train_images.reshape((60000, 28, 28, 1))\n",
    "train_images = train_images.astype('float32')/255\n",
    "\n",
    "test_images = test_images.reshape((10000, 28, 28, 1))\n",
    "test_images = test_images.astype('float')/255\n",
    "\n",
    "train_labels = to_categorical(train_labels)\n",
    "test_labels = to_categorical(test_labels)\n",
    "\n",
    "# model.compile(optimizer='rmsprop', loss='categorical_crossentropy', metrics=['accuracy'])\n",
    "\n",
    "# model.fit(train_images, train_labels, batch_size=65, epochs=5)\n",
    "\n",
    "# test_loss, test_acc = model.evaluate(test_images, test_labels)\n",
    "\n",
    "# test_acc"
   ]
  }
 ],
 "metadata": {
  "kernelspec": {
   "display_name": "Python 3",
   "language": "python",
   "name": "python3"
  },
  "language_info": {
   "codemirror_mode": {
    "name": "ipython",
    "version": 3
   },
   "file_extension": ".py",
   "mimetype": "text/x-python",
   "name": "python",
   "nbconvert_exporter": "python",
   "pygments_lexer": "ipython3",
   "version": "3.6.5"
  }
 },
 "nbformat": 4,
 "nbformat_minor": 2
}
