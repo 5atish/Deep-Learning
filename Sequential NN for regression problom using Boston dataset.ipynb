{
 "cells": [
  {
   "cell_type": "markdown",
   "metadata": {},
   "source": [
    "Predicting house prices for Boston dataset: Regression problem"
   ]
  },
  {
   "cell_type": "code",
   "execution_count": 14,
   "metadata": {
    "scrolled": true
   },
   "outputs": [
    {
     "name": "stdout",
     "output_type": "stream",
     "text": [
      "102/102 [==============================] - 0s 2ms/step\n"
     ]
    },
    {
     "data": {
      "text/plain": [
       "2.54056043250888"
      ]
     },
     "execution_count": 14,
     "metadata": {},
     "output_type": "execute_result"
    }
   ],
   "source": [
    "from keras.datasets import boston_housing\n",
    "from keras import models\n",
    "from keras import layers\n",
    "import numpy as np\n",
    "import matplotlib.pyplot as plt\n",
    "\n",
    "################# 3.24 Loading the Boston housing dataset ###################################\n",
    "\n",
    "(train_data, train_target), (test_data, test_target) = boston_housing.load_data()\n",
    "\n",
    "# train_data.shape\n",
    "# train_data[0]\n",
    "# train_target.shape\n",
    "# train_target\n",
    "\n",
    "################# 3.25 Prepare the data ###################################\n",
    "############# Normalize the data ########################\n",
    "### for each feature in the input data subtract the mean of the feature anddivide by the \n",
    "## standard deviation,so that the feature is centered around 0 and has a unit standard deviation.\n",
    "\n",
    "mean = train_data.mean(axis = 0)\n",
    "train_data -= mean\n",
    "std = train_data.std(axis = 0)\n",
    "train_data /= std\n",
    "\n",
    "test_data -= mean\n",
    "test_data /= std\n",
    "\n",
    "################# 3.26 Model Defination ###################################\n",
    "\n",
    "def build_model(): \n",
    "    model = models.Sequential() ### same model needed multiple times that's y create it as function.\n",
    "    model.add(layers.Dense(64, activation='relu', input_shape=(train_data.shape[1],)))\n",
    "    model.add(layers.Dense(64, activation='relu'))\n",
    "    model.add(layers.Dense(1))\n",
    "    model.compile(optimizer='rmsprop', loss='mse', metrics=['mae'])\n",
    "    return model\n",
    "\n",
    "################# 3.27 K-fold Validation ###################################\n",
    "\n",
    "k = 4 \n",
    "num_val_samples = len(train_data) // k\n",
    "# num_epoch = 100\n",
    "# all_score = []\n",
    "\n",
    "# for i in range(k):\n",
    "#     print('processing fold #', i)\n",
    "#     val_data = train_data[i * num_val_samples:(i + 1)* num_val_samples] ## Prepares validation data from partition #K\n",
    "#     val_target = train_target[i * num_val_samples:(i + 1) * num_val_samples]\n",
    "    \n",
    "#     partial_train_data = np.concatenate([train_data[:i * num_val_samples], ## Prepares the training data from all other partitions\n",
    "#                                          train_data[(i + 1) * num_val_samples:]], axis=0)\n",
    "#     partial_train_target = np.concatenate([train_target[:i * num_val_samples], ## Prepares the target data from all other partitions\n",
    "#                                          train_target[(i + 1) * num_val_samples:]], axis=0)   \n",
    "#     model = build_model()\n",
    "#     model.fit(partial_train_data, partial_train_target, epochs = num_epoch, batch_size=1, verbose=0)\n",
    "#     val_mse, val_mae = model.evaluate(val_data, val_target, verbose=0)\n",
    "#     all_score.append(val_mae)\n",
    "    \n",
    "# np.mean(all_score) ### 2.401\n",
    "    \n",
    "################# 3.28 Saving the validation logs at each fold #############################  \n",
    "\n",
    "# num_epoch = 500\n",
    "# all_mae_histories = []\n",
    "# for i in range(k):\n",
    "#     print('processing fold #', i)\n",
    "#     val_data = train_data[i * num_val_samples:(i + 1)* num_val_samples] ## Prepares validation data from partition #K\n",
    "#     val_target = train_target[i * num_val_samples:(i + 1) * num_val_samples]\n",
    "    \n",
    "#     partial_train_data = np.concatenate([train_data[:i * num_val_samples], ## Prepares the training data from all other partitions\n",
    "#                                          train_data[(i + 1) * num_val_samples:]], axis=0)\n",
    "#     partial_train_target = np.concatenate([train_target[:i * num_val_samples], ## Prepares the target data from all other partitions\n",
    "#                                            train_target[(i + 1) * num_val_samples:]], axis=0)   \n",
    "    \n",
    "#     model = build_model()\n",
    "#     history = model.fit(partial_train_data, partial_train_target, validation_data=(val_data, val_target), epochs = num_epoch, batch_size=1, verbose=0)\n",
    "#     mae_history = history.history['val_mean_absolute_error']\n",
    "#     all_mae_histories.append(mae_history)\n",
    "\n",
    "################# 3.29 Building the history of successive mean K-fold validation scores #######\n",
    "\n",
    "average_mae_history = [np.mean([x[i] for x in all_mae_histories]) for i in range(num_epoch)] \n",
    "    \n",
    "################# 3.30 Plotting validation scores ####################################\n",
    "\n",
    "# plt.plot(range(1, len(average_mae_history)+1), average_mae_history)\n",
    "# plt.xlabel('Epochs')\n",
    "# plt.ylabel('Validation MAE')\n",
    "# plt.show()\n",
    "\n",
    "################# 3.31 Plotting validation scores, excluding the first 10 data points #########\n",
    "\n",
    "# def smooth_curve(points, factor=0.9):\n",
    "#     smoothed_points = []\n",
    "#     for point in points:\n",
    "#         if smoothed_points:\n",
    "#             previous = smoothed_points[-1]\n",
    "#             smoothed_points.append(previous * factor + point * (1 - factor))\n",
    "#         else:\n",
    "#             smoothed_points.append(point)\n",
    "#     return smoothed_points\n",
    "\n",
    "# smoothed_mae_history = smooth_curve(average_mae_history[10:])\n",
    "# plt.plot(range(1, len(smoothed_mae_history) + 1), smoothed_mae_history)\n",
    "# plt.xlabel('Epoch')\n",
    "# plt.ylabel('Validation MAE')\n",
    "# plt.show()\n",
    "\n",
    "################# 3.27 Training the final model ###################################\n",
    "\n",
    "model = build_model()\n",
    "model.fit(train_data, train_target, epochs=80, batch_size=16, verbose=0)\n",
    "test_mse_score, test_mae_score = model.evaluate(test_data, test_target)\n",
    "\n",
    "test_mae_score ### 2.54\n"
   ]
  }
 ],
 "metadata": {
  "kernelspec": {
   "display_name": "Python 3",
   "language": "python",
   "name": "python3"
  },
  "language_info": {
   "codemirror_mode": {
    "name": "ipython",
    "version": 3
   },
   "file_extension": ".py",
   "mimetype": "text/x-python",
   "name": "python",
   "nbconvert_exporter": "python",
   "pygments_lexer": "ipython3",
   "version": "3.6.5"
  }
 },
 "nbformat": 4,
 "nbformat_minor": 2
}
