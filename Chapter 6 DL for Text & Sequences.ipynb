{
 "cells": [
  {
   "cell_type": "markdown",
   "metadata": {},
   "source": [
    "############################## One-hot encoding of words and characters ##############################################\n",
    "\n",
    "One-hot encoding is most basic way to turn a token into a vector. It consists of associating a unique integer index with every word and then turning this integer index i into a binary vector of size N (the size of the vocabulary). the vector is all zeros except for the i th entry, which is 1.\n"
   ]
  },
  {
   "cell_type": "code",
   "execution_count": 4,
   "metadata": {},
   "outputs": [
    {
     "data": {
      "text/plain": [
       "array([[[0., 1., 0., 0., 0., 0., 0., 0., 0., 0., 0.],\n",
       "        [0., 0., 1., 0., 0., 0., 0., 0., 0., 0., 0.],\n",
       "        [0., 0., 0., 1., 0., 0., 0., 0., 0., 0., 0.],\n",
       "        [0., 0., 0., 0., 1., 0., 0., 0., 0., 0., 0.],\n",
       "        [0., 0., 0., 0., 0., 1., 0., 0., 0., 0., 0.],\n",
       "        [0., 0., 0., 0., 0., 0., 1., 0., 0., 0., 0.],\n",
       "        [0., 0., 0., 0., 0., 0., 0., 0., 0., 0., 0.],\n",
       "        [0., 0., 0., 0., 0., 0., 0., 0., 0., 0., 0.],\n",
       "        [0., 0., 0., 0., 0., 0., 0., 0., 0., 0., 0.],\n",
       "        [0., 0., 0., 0., 0., 0., 0., 0., 0., 0., 0.]],\n",
       "\n",
       "       [[0., 1., 0., 0., 0., 0., 0., 0., 0., 0., 0.],\n",
       "        [0., 0., 0., 0., 0., 0., 0., 1., 0., 0., 0.],\n",
       "        [0., 0., 0., 0., 0., 0., 0., 0., 1., 0., 0.],\n",
       "        [0., 0., 0., 0., 0., 0., 0., 0., 0., 1., 0.],\n",
       "        [0., 0., 0., 0., 0., 0., 0., 0., 0., 0., 1.],\n",
       "        [0., 0., 0., 0., 0., 0., 0., 0., 0., 0., 0.],\n",
       "        [0., 0., 0., 0., 0., 0., 0., 0., 0., 0., 0.],\n",
       "        [0., 0., 0., 0., 0., 0., 0., 0., 0., 0., 0.],\n",
       "        [0., 0., 0., 0., 0., 0., 0., 0., 0., 0., 0.],\n",
       "        [0., 0., 0., 0., 0., 0., 0., 0., 0., 0., 0.]]])"
      ]
     },
     "execution_count": 4,
     "metadata": {},
     "output_type": "execute_result"
    }
   ],
   "source": [
    "#################### 6.1 Word-level one-hot encoding with toy example #################################################\n",
    "\n",
    "import numpy as np\n",
    "\n",
    "### Initial data: one entry per sample, sample is a sentence, but it could be an entire document\n",
    "samples = ['The cat sat on the mat.', 'The dog ate my homework.'] \n",
    "len(samples)\n",
    "\n",
    "### an index of all tokens in the data\n",
    "token_index = {} \n",
    "for sample in samples:\n",
    "#     print(sample)\n",
    "#     ### tokenize the sample with split method \n",
    "    for word in sample.split(): \n",
    "#         print(word)\n",
    "        if word not in token_index:\n",
    "#             ### Assign unique index to each Unique word, Note that don’t assign attribute index 0 to anything \n",
    "            token_index[word] = len(token_index) + 1 \n",
    "#             print(token_index)\n",
    "\n",
    "# ### Vectorizes the samples.consider the first max_length words in each sample.\n",
    "max_length = 10 \n",
    "# print(max(token_index.values())+1)\n",
    "max(token_index.values())+1\n",
    "\n",
    "# ### store the results\n",
    "results = np.zeros(shape = (len(samples), max_length, max(token_index.values()) + 1))\n",
    "for i, sample in enumerate(samples):\n",
    "#     print(i, sample)\n",
    "    for j, word in list(enumerate(sample.split()))[:max_length]:\n",
    "#         print(j, word)\n",
    "        index = token_index.get(word)\n",
    "#         print(index)\n",
    "        results[i, j, index] = 1\n",
    "results        "
   ]
  },
  {
   "cell_type": "code",
   "execution_count": 49,
   "metadata": {},
   "outputs": [
    {
     "data": {
      "text/plain": [
       "(2, 50, 101)"
      ]
     },
     "execution_count": 49,
     "metadata": {},
     "output_type": "execute_result"
    }
   ],
   "source": [
    "#################### 6.2 Character-level one-hot encoding with toy example ############################################\n",
    "\n",
    "import string\n",
    "\n",
    "### Initial data: one entry per sample, sample is a sentence, but it could be an entire document\n",
    "samples = ['The cat sat on the mat.', 'The dog ate my homework.'] \n",
    "\n",
    "### All printable ASCII characters\n",
    "characters = string.printable\n",
    "# print(characters)\n",
    "# print(len(samples)) ## 2\n",
    "# print(len(characters)) ## 100\n",
    "\n",
    "token_index = dict(zip(range(1, len(characters) + 1), characters))\n",
    "# print(token_index.values())\n",
    "# print(token_index.keys())\n",
    "\n",
    "max_length = 50\n",
    "results = np.zeros((len(samples), max_length, max(token_index.keys()) + 1))\n",
    "# results\n",
    "for i, sample in enumerate(samples):\n",
    "#     print(i, sample)\n",
    "    for j, character in enumerate(sample):\n",
    "#         print(j, character)\n",
    "        index = token_index.get(character)\n",
    "#         print(index)\n",
    "        results[i,j, index] = 1\n",
    "#\n",
    "results.shape\n",
    "# results[0,20:30,0:100]\n",
    "# results"
   ]
  },
  {
   "cell_type": "markdown",
   "metadata": {},
   "source": [
    "############################## One-hot encoding of words using Keras ##############################################\n",
    "\n",
    "Keras has built-in utilities for doing one-hot encoding of text at the word level or character level, starting from raw text data. It take care of a number of important features such as stripping special characters from strings and only taking into account the N most common words in your dataset (a common restriction, to avoid dealing with very large input vector spaces)"
   ]
  },
  {
   "cell_type": "code",
   "execution_count": 86,
   "metadata": {},
   "outputs": [
    {
     "name": "stdout",
     "output_type": "stream",
     "text": [
      "{'the': 1, 'cat': 2, 'sat': 3, 'on': 4, 'mat': 5, 'dog': 6, 'ate': 7, 'my': 8, 'homework': 9}\n"
     ]
    }
   ],
   "source": [
    "#################### 6.3 Using Keras for word-level one-hot encoding ############################################\n",
    "\n",
    "from keras.preprocessing.text import Tokenizer\n",
    "\n",
    "samples = ['The cat sat on the mat.', 'The dog ate my homework.'] \n",
    "\n",
    "### Creates a tokenizer, configured to only take into account the 1,000 most common words\n",
    "tokenizer  = Tokenizer(num_words=1000)\n",
    "\n",
    "### Builds the word index\n",
    "tokenizer.fit_on_texts(samples)\n",
    "\n",
    "### Turns strings into lists of integer indices\n",
    "sequences = tokenizer.texts_to_sequences(samples)\n",
    "# print(sequences)\n",
    "# print(sequences.count)\n",
    "### directly get the one-hot binary representations, Vectorization modes other than one-hot encoding are supported \n",
    "### by this tokenizer\n",
    "one_hot_results = tokenizer.texts_to_matrix(samples, mode = 'binary')\n",
    "# print(one_hot_results[1,0:1000])\n",
    "### recover the word index that was computed\n",
    "word_index = tokenizer.word_index\n",
    "# print(word_index)\n",
    "# print('Found %s unique tokens.' % len(word_index))\n",
    "\n",
    "# one_hot_results.shape"
   ]
  },
  {
   "cell_type": "markdown",
   "metadata": {},
   "source": [
    "############################## One-hot encoding of words using hashing trick ########################################\n",
    "\n",
    "A variant of one-hot encoding is called one-hot hashing trick, which can be use when the number of unique tokens in  vocabulary is too large to handle explicitly. So, instead of explicitly assigning an index to each word and keeping a reference of these indices in a dictionary, we can hash words into vectors of fixed size. This is done with a very lightweight hashing function.\n",
    "The main advantage of this method is that it does away with maintaining an explicit word index, which saves memory and\n",
    "allows online encoding of the data.\n",
    "The one drawback of this approach is that it’s susceptible to hash collisions: two different words may end up with the same hash, and subsequently any machine-learning model looking at these hashes won’t be able to tell\n",
    "the difference between these words."
   ]
  },
  {
   "cell_type": "code",
   "execution_count": 100,
   "metadata": {},
   "outputs": [
    {
     "data": {
      "text/plain": [
       "(2, 10, 1000)"
      ]
     },
     "execution_count": 100,
     "metadata": {},
     "output_type": "execute_result"
    }
   ],
   "source": [
    "#################### 6.5 Word-level one-hot encoding with hashing trick ##############################################\n",
    "\n",
    "\n",
    "samples = ['The cat sat on the mat.', 'The dog ate my homework.'] \n",
    "\n",
    "### Stores the words as vectors of size 1,000\n",
    "dimensionality = 1000\n",
    "max_length = 10\n",
    "\n",
    "results = np.zeros((len(samples), max_length, dimensionality))\n",
    "\n",
    "for i, sample in enumerate(samples):\n",
    "#     print(i, sample)\n",
    "    for j, word in list(enumerate(sample.split()))[:max_length]:\n",
    "        ### Hashes the word into a random integer index between 0 and 1,000\n",
    "#         print(j, word)\n",
    "        index = abs(hash(word)) % dimensionality\n",
    "#         print(abs(hash(word)) % dimensionality) \n",
    "        results[i,j,index] = 1\n",
    "results.shape        \n",
    "# results[0,4,0:1000]"
   ]
  },
  {
   "cell_type": "markdown",
   "metadata": {},
   "source": [
    "############################## Using word embeddings ########################################\n",
    "\n",
    "Most popular and powerful way to associate a vector with a word is the use of dense word vectors, also called word embeddings. \n",
    "\n",
    "The vectors obtained through one-hot encoding are binary, sparse (mostly made of zeros), and very high-dimensional (same dimensionality as the number of words in the vocabulary). One-hot encoding words generally leads to vectors\n",
    "that are 20,000-dimensional or greater (same dimensionality as the number of words in the vocabulary)\n",
    "\n",
    "Word embeddings are low dimensional floating-point vectors (that is, dense vectors, as opposed to sparse vectors) and unlike the word vectors obtained via one-hot encoding, word embeddings are learned from data. word embeddings that are 256-dimensional, 512-dimensional, or 1,024-dimensional when dealing with very large vocabularies.\n",
    "\n"
   ]
  },
  {
   "cell_type": "markdown",
   "metadata": {},
   "source": [
    "############################## the IMDB data for use with an Embedding layer ########################################\n",
    "\n",
    "word-embedding spaces, common examples of meaningful geometric transformations are “gender” vectors and “plural” vectors. By adding a “female” vector to the vector “king,” we obtain the vector “queen.” By adding a “plural” vector, we obtain “kings.” Word-embedding spaces typically feature thousands of such interpretable and potentially\n",
    "useful vectors. \n",
    "\n",
    "Thus Word-embedding is reasonable to learn a new embedding space with every new task. Fortunately, backpropagation makes this easy, and Keras makes it even easier. It’s about learning the weights of a layer: the Embedding layer.\n",
    "\n",
    "The Embedding layer is best understood as a dictionary that maps integer indices (which stand for specific words) to dense vectors. It takes integers as input, it looks up these integers in an internal dictionary, and it returns the associated vectors.\n",
    "\n",
    "The Embedding layer takes as input a 2D tensor of integers, of shape (samples, equence_length), where each entry is a sequence of integers and returns a 3D floating-point tensor of shape (samples, sequence_length, embedding_dimensionality). Such a 3D tensor can then be processed by RNN layer or a 1D convolution layer.\n",
    "\n",
    "the IMDB movie-review sentiment-prediction task, restrict the movie reviews to the top 10,000 most common word and cut off the reviews after only 20 words. The network will learn 8-dimensional embeddings for each of the 10,000 words, turn the input integer sequences (2D integer tensor) into embedded sequences (3D float tensor), flatten the tensor to 2D, and train a single Dense layer on top for classification."
   ]
  },
  {
   "cell_type": "code",
   "execution_count": 106,
   "metadata": {},
   "outputs": [
    {
     "name": "stdout",
     "output_type": "stream",
     "text": [
      "_________________________________________________________________\n",
      "Layer (type)                 Output Shape              Param #   \n",
      "=================================================================\n",
      "embedding_2 (Embedding)      (None, 20, 8)             80000     \n",
      "_________________________________________________________________\n",
      "flatten_2 (Flatten)          (None, 160)               0         \n",
      "_________________________________________________________________\n",
      "dense_2 (Dense)              (None, 1)                 161       \n",
      "=================================================================\n",
      "Total params: 80,161\n",
      "Trainable params: 80,161\n",
      "Non-trainable params: 0\n",
      "_________________________________________________________________\n"
     ]
    },
    {
     "data": {
      "image/png": "[encoded data removed]",
      "text/plain": [
       "<Figure size 432x288 with 1 Axes>"
      ]
     },
     "metadata": {},
     "output_type": "display_data"
    },
    {
     "data": {
      "image/png": "[encoded data removed]",
      "text/plain": [
       "<Figure size 432x288 with 1 Axes>"
      ]
     },
     "metadata": {},
     "output_type": "display_data"
    }
   ],
   "source": [
    "#################### 6.6 Loading the IMDB data for use with an Embedding layer ######################################\n",
    "\n",
    "from keras.datasets import imdb\n",
    "from keras import preprocessing\n",
    "from keras.models import Sequential\n",
    "from keras.layers import Flatten, Dense, Embedding\n",
    "import matplotlib.pyplot as plt\n",
    "\n",
    "### Number of words to consider as features\n",
    "max_features = 10000\n",
    "\n",
    "### Cuts off the text after this number of words\n",
    "maxlen = 20\n",
    "\n",
    "### Load data as list of Integers\n",
    "(x_train, y_train), (x_test, y_test) = imdb.load_data(num_words=max_features)\n",
    "\n",
    "\n",
    "\n",
    "###Turns the lists of integers into a 2D integer tensor of shape (samples, maxlen)\n",
    "x_train = preprocessing.sequence.pad_sequences(x_train, maxlen=maxlen)\n",
    "x_test = preprocessing.sequence.pad_sequences(x_test, maxlen=maxlen)\n",
    "# print(x_train)\n",
    "\n",
    "model = Sequential()\n",
    "\n",
    "### Specifies the maximum input length to the Embedding layer so you can later flatten the embedded inputs. \n",
    "model.add(Embedding(10000, 8, input_length=maxlen))\n",
    "### After the Embedding layer, the activations have shape (samples, maxlen, 8).\n",
    "\n",
    "### Flattens the 3D tensor of embeddings into a 2D tensor of shape (samples, maxlen * 8)\n",
    "model.add(Flatten())\n",
    "\n",
    "### Adds the classifier on top\n",
    "model.add(Dense(1, activation='sigmoid'))\n",
    "model.summary()\n",
    "\n",
    "# model.compile(optimizer='rmsprop', loss='binary_crossentropy', metrics=['acc'])\n",
    "# history = model.fit(x_train, y_train, epochs=10, batch_size=32, validation_split=0.2)\n",
    "\n",
    "#################### Plotting results ######################################################################\n",
    "\n",
    "acc = history.history['acc']\n",
    "val_acc = history.history['val_acc']\n",
    "loss = history.history['loss']\n",
    "val_loss = history.history['val_loss']\n",
    "epochs = range(1, len(acc) + 1)\n",
    "\n",
    "plt.plot(epochs, acc, 'bo', label = 'Training acc')\n",
    "plt.plot(epochs, val_acc, 'b', label = 'Validation acc')\n",
    "plt.title(\"Training & Validation Accuracy\")\n",
    "plt.legend()\n",
    "\n",
    "plt.figure()\n",
    "\n",
    "plt.plot(epochs, loss, 'bo', label = 'Training Loss')\n",
    "plt.plot(epochs, val_loss, 'b', label = 'Validation Loss')\n",
    "plt.title(\"Training & Validation Loss\")\n",
    "plt.legend()\n",
    "\n",
    "plt.show()"
   ]
  },
  {
   "cell_type": "markdown",
   "metadata": {},
   "source": [
    "############################## DOWNLOADING THE IMDB DATA AS RAW TEXT ##############################################\n",
    "\n",
    "Let’s collect the individual training reviews from downloaded raw IMDB dataset (path: C:\\Users\\Satish\\python_files\\IMDB_Data\\aclImdb\\aclImdb\\test) into a list of strings, one string per review. collect the review labels (positive/negative) into a labels list."
   ]
  },
  {
   "cell_type": "code",
   "execution_count": 116,
   "metadata": {},
   "outputs": [
    {
     "name": "stdout",
     "output_type": "stream",
     "text": [
      "<built-in method count of list object at 0x00000277F7C774C8>\n",
      "<built-in method count of list object at 0x00000277F7C774C8>\n"
     ]
    }
   ],
   "source": [
    "#################### 6.8 Processing the labels of the raw IMDB data ##############################################\n",
    "\n",
    "import os\n",
    "\n",
    "imdb_dir  = '/Users/Satish/python_files/IMDB_Data/aclImdb/aclImdb/'\n",
    "train_dir = os.path.join(imdb_dir, 'test')\n",
    "\n",
    "labels = []\n",
    "texts = []\n",
    "\n",
    "for label_type in ['neg', 'pos']:\n",
    "    dir_name = os.path.join(train_dir, label_type)\n",
    "#     print(dir_name)\n",
    "    for fname in os.listdir(dir_name):\n",
    "#         print(fname[-4:])\n",
    "        if fname[-4:] == '.txt':\n",
    "            f = open(os.path.join(dir_name, fname), encoding=\"utf8\")\n",
    "            texts.append(f.read())\n",
    "#             print(texts)\n",
    "            f.close()\n",
    "            if label_type == 'neg':\n",
    "                labels.append(0)\n",
    "#                 print(labels)\n",
    "            else:\n",
    "                labels.append(1)\n",
    "#     print(labels.count)\n",
    "# texts.count"
   ]
  },
  {
   "cell_type": "markdown",
   "metadata": {},
   "source": [
    "############################## TOKENIZING THE DATA ##############################################\n",
    "\n",
    "Let’s vectorize the text and prepare a training and validation split.\n",
    "Because pretrained word embeddings are meant to be particularly useful on problems where little training data is available.\n",
    "Twist is restrict the training data to the first 200 samples and learn to classify movie reviews after looking at just 200 examples."
   ]
  },
  {
   "cell_type": "code",
   "execution_count": 122,
   "metadata": {},
   "outputs": [
    {
     "name": "stdout",
     "output_type": "stream",
     "text": [
      "[[   0    0    0    0    0    0    0    0    0    0    0    0    0    0\n",
      "    11   14  125   35  445  329    4  672  208   30    1   97  146    1\n",
      "   489 5452    4 8715   36    1  146    1 2265    1 1354 2007    7   91\n",
      "    53 2842   17    1 7179   12   10    7  452   20    2  322   70 5912\n",
      "  5956 1897  208   17    2  466 7105  281    3 1940 2709 5196  122   28\n",
      "     7   26    4 4714 2505  659  149   16   17 4543 2259   11   14  137\n",
      "    86  208   30  103 1499   42  393  132   77 1468   25  393    8    2\n",
      "  1927  732]\n",
      " [  31 3856    3   47    2  890 2098   33    5   86  247   31  186   45\n",
      "     1  256    6    6   16 2029   55   23   10    1  107 3667  372 5381\n",
      "    82    1 8593  970   51   50   26    7  376  580    1  979 1838    3\n",
      "    17   67 2780 8276    2  165    4 1836 3354    5 8642   90   15   67\n",
      "  3339  868    6    6   30  178   11    7    2  305 1037    3 1743   19\n",
      "    18   10    7   94  154   16    1  590  161   56   74    3 2535    3\n",
      "    86   35  445  740  885  140 1074    3  716    9  472  324 1806   34\n",
      "     2  979]\n",
      " [  91  823   10    1 5444 3209 1746    7 7766  340    1  202    7   91\n",
      "    54    4  927 6139 1362    3  214  927   38   47   76  149    3 1576\n",
      "     1  104  351   17    1  285    3  199   24  635 2490    1  616   58\n",
      "     7   91   54   21    8    1  434  961 1308  427    4  743 1480  775\n",
      "   261   44    7 1786  525 1276    3 2813  205    3   16   15    1 5444\n",
      "  3209 1746  678   53 1746    4   90    6    6   22  212   65   11   19\n",
      "    39    5  112   81   62   19  231   68   60   25  748 1776   19 1117\n",
      "  2588  468]\n",
      " [   6    6    9   39 3738  122   10 4946  388  175   10 2014   66    4\n",
      "     1  290 1131   17  953   83  953 1524    3  953  215   81  111    9\n",
      "   117 1920 2066   54    8   11 1157    6    6    1  101    8    1 2078\n",
      "     4  798    9   23  291   24  815   11  168   15   56  277  301    1\n",
      "   104  397   24   21   56  210   16    1  163 4626 3653  301    1  163\n",
      "   120 1757    1 1583    3   91   26  155  853    5    1  341  120    6\n",
      "     6 1115   17    1  163 4626 3653  301    3 3159  628    1 1421    4\n",
      "   139  888]\n",
      " [   0    0    0    0    0    0    0    0    0    0    0    0    1  481\n",
      "     7  635 2490    8   11 3093    4    2   14 5663  362  337    2 2043\n",
      "  9687   37 4252 2935    1  675  256   20   27 2241 2253   84   28 1807\n",
      "    35  163  183 1884  171   33    1  505    4    1 1182    3  236 9997\n",
      "     2  685 7627    3   20    3   20    3   20  555    1 3629 4812    1\n",
      "  7627 8075    1 4673  128  626  807   39  127   11   14    7 2258 2857\n",
      "    48 5663  362   47 3836    7    5 2119   66  113    5  143    5   27\n",
      "  1026  301]]\n"
     ]
    }
   ],
   "source": [
    "#################### 6.9 Tokenizing the text of the raw IMDB data ##############################################\n",
    "\n",
    "from keras.preprocessing.text import Tokenizer\n",
    "from keras.preprocessing.sequence import pad_sequences\n",
    "import numpy as np\n",
    "\n",
    "### Cuts off reviews after 100 words\n",
    "maxlen = 100\n",
    "### Trains on 200 samples\n",
    "training_samples = 200\n",
    "### Validates on 10,000 samples\n",
    "validation_samples = 10000\n",
    "### Considers only the top 10,000 words in the dataset\n",
    "max_words = 10000\n",
    "\n",
    "### Tokenizing the text\n",
    "tokenizer = Tokenizer(num_words=max_words)\n",
    "tokenizer.fit_on_texts(texts)\n",
    "sequences = tokenizer.texts_to_sequences(texts)\n",
    "word_index = tokenizer.word_index\n",
    "# print('Found %s unique tokens.' % len(word_index))\n",
    "\n",
    "data = pad_sequences(sequences, maxlen=maxlen)\n",
    "labels = np.asarray(labels)\n",
    "\n",
    "# print('shape of data tensor: ', data.shape)\n",
    "# print('shape of label tensor: ', labels.shape)\n",
    "# print(data[0:5,0:100])\n",
    "\n",
    "### Shuffle the data to re-order the order of the data as data is order like all -ve first and then +ve.\n",
    "indices = np.arange(data.shape[0])\n",
    "np.random.shuffle(indices)\n",
    "data = data[indices]\n",
    "labels = labels[indices]\n",
    "# print(data[0:5,0:100])\n",
    "\n",
    "### Splits the data into a training set and a validation set\n",
    "x_train = data[:training_samples]\n",
    "y_train = labels[:training_samples]\n",
    "x_test = data[training_samples: training_samples + validation_samples]\n",
    "y_test = labels[training_samples: training_samples + validation_samples]\n"
   ]
  },
  {
   "cell_type": "markdown",
   "metadata": {},
   "source": [
    "############################## PREPROCESSING THE EMBEDDINGS ##############################################\n",
    "\n",
    "Download the precomputed GLOVE WORD embeddings from 2014 English Wikipedia, from nlp.stanford.edu/projects/glove called glove.6B.zip containing 100-dimensional embedding vectors for 400,000 words.\n",
    "Parse the unzipped file (a .txt file) to build an index that maps words (as strings) to their vector representation (as number vectors)."
   ]
  },
  {
   "cell_type": "code",
   "execution_count": 131,
   "metadata": {},
   "outputs": [
    {
     "name": "stdout",
     "output_type": "stream",
     "text": [
      "Found 400000 word vectors.\n"
     ]
    }
   ],
   "source": [
    "#################### 6.10 Parsing the GloVe word-embeddings file ##############################################\n",
    "\n",
    "glove_dir = '/Users/Satish/python_files/IMDB_Data/glove.6B'\n",
    "\n",
    "# embeddings_index = {}\n",
    "# f = open(os.path.join(glove_dir, 'glove.6B.100d.txt'), encoding='utf8')\n",
    "# for line in f:\n",
    "#     values = line.split()\n",
    "# #     print(values)\n",
    "#     word = values[0]\n",
    "# #     print(word)\n",
    "#     coefs = np.asarray(values[1:], dtype='float32')\n",
    "#     embeddings_index[word] = coefs\n",
    "# #     print(embeddings_index)\n",
    "# f.close()\n",
    "\n",
    "print('Found %s word vectors.' % len(embeddings_index))\n",
    "# print(embeddings_index.keys)"
   ]
  },
  {
   "cell_type": "markdown",
   "metadata": {},
   "source": [
    "Now, build an embedding matrix shape of  (max_words, embedding_dim) that can load into an Embedding layer. \n",
    "each entry i contains the embedding_dim-dimensional vector for the word of index i in the reference word index (built during tokenization).\n",
    "index 0 isn’t supposed to stand for any word or token. it’s a placeholder."
   ]
  },
  {
   "cell_type": "code",
   "execution_count": 140,
   "metadata": {},
   "outputs": [
    {
     "data": {
      "text/plain": [
       "array([-0.27085999,  0.044006  , -0.02026   , -0.17395   ,  0.6444    ,\n",
       "        0.71213001,  0.35510001,  0.47138   , -0.29637   ,  0.54426998,\n",
       "       -0.72294003, -0.0047612 ,  0.040611  ,  0.043236  ,  0.29729   ,\n",
       "        0.10725   ,  0.40156001, -0.53662002,  0.033382  ,  0.067396  ,\n",
       "        0.64556003, -0.085523  ,  0.14103   ,  0.094539  ,  0.74947   ,\n",
       "       -0.19400001, -0.68739003, -0.41740999, -0.22807001,  0.12      ,\n",
       "       -0.48999   ,  0.80944997,  0.045138  , -0.11898   ,  0.20161   ,\n",
       "        0.39276001, -0.20121001,  0.31354001,  0.75304002,  0.25907001,\n",
       "       -0.11566   , -0.029319  ,  0.93498999, -0.36067   ,  0.52420002,\n",
       "        0.23706   ,  0.52714998,  0.22869   , -0.51958001, -0.79348999,\n",
       "       -0.20367999, -0.50186998,  0.18748   ,  0.94282001, -0.44834   ,\n",
       "       -3.67919993,  0.044183  , -0.26751   ,  2.19970012,  0.241     ,\n",
       "       -0.033425  ,  0.69553   , -0.64472002, -0.0072277 ,  0.89574999,\n",
       "        0.20015   ,  0.46493   ,  0.61932999, -0.1066    ,  0.08691   ,\n",
       "       -0.4623    ,  0.18262   , -0.15849   ,  0.020791  ,  0.19373   ,\n",
       "        0.063426  , -0.31672999, -0.48177001, -1.38479996,  0.13669001,\n",
       "        0.96859002,  0.049965  , -0.27379999, -0.035686  , -1.05770004,\n",
       "       -0.24467   ,  0.90366   , -0.12442   ,  0.080776  , -0.83401   ,\n",
       "        0.57200998,  0.088945  , -0.42532   , -0.018253  , -0.079995  ,\n",
       "       -0.28580999, -0.01089   , -0.4923    ,  0.63687003,  0.23642001])"
      ]
     },
     "execution_count": 140,
     "metadata": {},
     "output_type": "execute_result"
    }
   ],
   "source": [
    "#################### 6.11 Preparing the GloVe word-embeddings matrix ##############################################\n",
    "\n",
    "embedding_dim = 100\n",
    "# print(max_words)\n",
    "# embedding_matrix = np.zeros((max_words, embedding_dim))\n",
    "# for word, i in word_index.items():\n",
    "#     if i < max_words:\n",
    "#         embedding_vector = embeddings_index.get(word)\n",
    "#         if embedding_vector is not None:\n",
    "#             ### Words not found in the embedding index will be all zeros\n",
    "#             embedding_matrix[i] = embedding_vector\n",
    "\n",
    "# embedding_matrix[2,0:100]           \n",
    "        "
   ]
  },
  {
   "cell_type": "code",
   "execution_count": 144,
   "metadata": {},
   "outputs": [
    {
     "name": "stdout",
     "output_type": "stream",
     "text": [
      "_________________________________________________________________\n",
      "Layer (type)                 Output Shape              Param #   \n",
      "=================================================================\n",
      "embedding_5 (Embedding)      (None, 100, 100)          1000000   \n",
      "_________________________________________________________________\n",
      "flatten_5 (Flatten)          (None, 10000)             0         \n",
      "_________________________________________________________________\n",
      "dense_7 (Dense)              (None, 32)                320032    \n",
      "_________________________________________________________________\n",
      "dense_8 (Dense)              (None, 1)                 33        \n",
      "=================================================================\n",
      "Total params: 1,320,065\n",
      "Trainable params: 1,320,065\n",
      "Non-trainable params: 0\n",
      "_________________________________________________________________\n"
     ]
    }
   ],
   "source": [
    "#################### 6.12 Model definition ##############################################################\n",
    "\n",
    "from keras.models import Sequential\n",
    "from keras.layers import Flatten, Dense, Embedding\n",
    "\n",
    "model = Sequential()\n",
    "model.add(Embedding(max_words, embedding_dim, input_length=maxlen))\n",
    "model.add(Flatten())\n",
    "model.add(Dense(32, activation='relu'))\n",
    "model.add(Dense(1, activation='sigmoid'))\n",
    "model.summary()\n"
   ]
  },
  {
   "cell_type": "markdown",
   "metadata": {},
   "source": [
    "#################### LOADING THE GLOVE EMBEDDINGS IN THE MODEL ##############################################\n",
    "\n",
    "The Embedding layer has a single weight matrix i.e. a 2D float matrix, where each entry i is the word vector meant to be associated with index i.\n",
    "Load the GloVe matrix  into the Embedding layer i.e. the first layer in the model."
   ]
  },
  {
   "cell_type": "code",
   "execution_count": 146,
   "metadata": {},
   "outputs": [],
   "source": [
    "#################### 6.13 Loading pretrained word embeddings into the Embedding layer ############################\n",
    "\n",
    "model.layers[0].set_weights([embedding_matrix])\n",
    "\n",
    "### freeze the Embedding layer by setting its trainable attribute to False\n",
    "model.layers[0].trainable = False\n"
   ]
  },
  {
   "cell_type": "code",
   "execution_count": 147,
   "metadata": {},
   "outputs": [
    {
     "name": "stdout",
     "output_type": "stream",
     "text": [
      "Train on 200 samples, validate on 10000 samples\n",
      "Epoch 1/10\n",
      "200/200 [==============================] - 1s 7ms/step - loss: 1.7416 - acc: 0.6100 - val_loss: 0.6913 - val_acc: 0.7321\n",
      "Epoch 2/10\n",
      "200/200 [==============================] - 1s 5ms/step - loss: 0.6335 - acc: 0.6800 - val_loss: 0.6639 - val_acc: 0.7320\n",
      "Epoch 3/10\n",
      "200/200 [==============================] - 1s 6ms/step - loss: 0.4650 - acc: 0.7400 - val_loss: 0.6067 - val_acc: 0.7308\n",
      "Epoch 4/10\n",
      "200/200 [==============================] - 1s 6ms/step - loss: 0.3750 - acc: 0.8450 - val_loss: 0.7710 - val_acc: 0.7316\n",
      "Epoch 5/10\n",
      "200/200 [==============================] - 1s 6ms/step - loss: 0.2361 - acc: 0.9200 - val_loss: 0.9012 - val_acc: 0.7319\n",
      "Epoch 6/10\n",
      "200/200 [==============================] - 1s 6ms/step - loss: 0.2009 - acc: 0.9350 - val_loss: 0.7114 - val_acc: 0.5644\n",
      "Epoch 7/10\n",
      "200/200 [==============================] - 1s 5ms/step - loss: 0.0823 - acc: 1.0000 - val_loss: 0.6704 - val_acc: 0.7005\n",
      "Epoch 8/10\n",
      "200/200 [==============================] - 1s 5ms/step - loss: 0.0597 - acc: 0.9950 - val_loss: 1.2371 - val_acc: 0.3233\n",
      "Epoch 9/10\n",
      "200/200 [==============================] - 1s 5ms/step - loss: 0.2004 - acc: 0.9350 - val_loss: 0.8264 - val_acc: 0.7274\n",
      "Epoch 10/10\n",
      "200/200 [==============================] - 1s 5ms/step - loss: 0.0287 - acc: 1.0000 - val_loss: 0.7873 - val_acc: 0.7225\n"
     ]
    },
    {
     "data": {
      "image/png": "[encoded data removed]",
      "text/plain": [
       "<Figure size 432x288 with 1 Axes>"
      ]
     },
     "metadata": {},
     "output_type": "display_data"
    },
    {
     "data": {
      "image/png": "[encoded data removed]",
      "text/plain": [
       "<Figure size 432x288 with 1 Axes>"
      ]
     },
     "metadata": {},
     "output_type": "display_data"
    }
   ],
   "source": [
    "#################### 6.14 Training, evaluation and Plotting the results ###########################################\n",
    "import matplotlib.pyplot as plt\n",
    "\n",
    "model.compile(optimizer='rmsprop', loss='binary_crossentropy', metrics=['acc'])\n",
    "history = model.fit(x_train, y_train, epochs=10, batch_size=32, validation_data=(x_test, y_test))\n",
    "model.save_weights('pre_trained_glove_model.h5')\n",
    "\n",
    "acc = history.history['acc']\n",
    "val_acc = history.history['val_acc']\n",
    "loss = history.history['loss']\n",
    "val_loss = history.history['val_loss']\n",
    "epochs = range(1, len(acc) + 1)\n",
    "\n",
    "plt.plot(epochs, acc, 'bo', label = 'Training acc')\n",
    "plt.plot(epochs, val_acc, 'b', label = 'Validation acc')\n",
    "plt.title(\"Training & Validation Accuracy\")\n",
    "plt.legend()\n",
    "\n",
    "plt.figure()\n",
    "\n",
    "plt.plot(epochs, loss, 'bo', label = 'Training Loss')\n",
    "plt.plot(epochs, val_loss, 'b', label = 'Validation Loss')\n",
    "plt.title(\"Training & Validation Loss\")\n",
    "plt.legend()\n",
    "\n",
    "plt.show()\n",
    "\n",
    "### The model quickly starts overfitting, which is unsurprising given the small number of training samples. \n",
    "### Validation accuracy has high variance for the same reason"
   ]
  },
  {
   "cell_type": "markdown",
   "metadata": {},
   "source": [
    "Train the same model without loading the pretrained word embeddings and without freezing the embedding layer. And learn a task specific embedding of the input tokens, which is generally more powerful than pretrained word embeddings when lots of data is available."
   ]
  },
  {
   "cell_type": "code",
   "execution_count": 148,
   "metadata": {},
   "outputs": [
    {
     "name": "stdout",
     "output_type": "stream",
     "text": [
      "_________________________________________________________________\n",
      "Layer (type)                 Output Shape              Param #   \n",
      "=================================================================\n",
      "embedding_6 (Embedding)      (None, 100, 100)          1000000   \n",
      "_________________________________________________________________\n",
      "flatten_6 (Flatten)          (None, 10000)             0         \n",
      "_________________________________________________________________\n",
      "dense_9 (Dense)              (None, 32)                320032    \n",
      "_________________________________________________________________\n",
      "dense_10 (Dense)             (None, 1)                 33        \n",
      "=================================================================\n",
      "Total params: 1,320,065\n",
      "Trainable params: 1,320,065\n",
      "Non-trainable params: 0\n",
      "_________________________________________________________________\n",
      "Train on 200 samples, validate on 10000 samples\n",
      "Epoch 1/10\n",
      "200/200 [==============================] - 2s 9ms/step - loss: 0.6743 - acc: 0.6350 - val_loss: 0.6189 - val_acc: 0.7320\n",
      "Epoch 2/10\n",
      "200/200 [==============================] - 1s 6ms/step - loss: 0.4238 - acc: 0.8850 - val_loss: 0.5872 - val_acc: 0.7322\n",
      "Epoch 3/10\n",
      "200/200 [==============================] - 1s 6ms/step - loss: 0.2353 - acc: 0.9950 - val_loss: 0.5927 - val_acc: 0.7312\n",
      "Epoch 4/10\n",
      "200/200 [==============================] - 1s 6ms/step - loss: 0.0976 - acc: 1.0000 - val_loss: 0.5994 - val_acc: 0.7295\n",
      "Epoch 5/10\n",
      "200/200 [==============================] - 1s 6ms/step - loss: 0.0455 - acc: 1.0000 - val_loss: 0.6093 - val_acc: 0.7296\n",
      "Epoch 6/10\n",
      "200/200 [==============================] - 1s 6ms/step - loss: 0.0241 - acc: 1.0000 - val_loss: 0.6324 - val_acc: 0.7043\n",
      "Epoch 7/10\n",
      "200/200 [==============================] - 1s 6ms/step - loss: 0.0139 - acc: 1.0000 - val_loss: 0.6309 - val_acc: 0.7195\n",
      "Epoch 8/10\n",
      "200/200 [==============================] - 1s 6ms/step - loss: 0.0076 - acc: 1.0000 - val_loss: 0.6456 - val_acc: 0.7246\n",
      "Epoch 9/10\n",
      "200/200 [==============================] - 1s 6ms/step - loss: 0.0046 - acc: 1.0000 - val_loss: 0.6605 - val_acc: 0.7272\n",
      "Epoch 10/10\n",
      "200/200 [==============================] - 1s 6ms/step - loss: 0.0029 - acc: 1.0000 - val_loss: 0.6804 - val_acc: 0.7272\n"
     ]
    },
    {
     "data": {
      "image/png": "[encoded data removed]",
      "text/plain": [
       "<Figure size 432x288 with 1 Axes>"
      ]
     },
     "metadata": {},
     "output_type": "display_data"
    },
    {
     "data": {
      "image/png": "[encoded data removed]",
      "text/plain": [
       "<Figure size 432x288 with 1 Axes>"
      ]
     },
     "metadata": {},
     "output_type": "display_data"
    }
   ],
   "source": [
    "#################### 6.16 Training the same model without pretrained word embeddings #################################\n",
    "\n",
    "from keras.models import Sequential\n",
    "from keras.layers import Embedding, Dense, Flatten\n",
    "\n",
    "model = Sequential()\n",
    "model.add(Embedding(max_words, embedding_dim, input_length=maxlen))\n",
    "model.add(Flatten())\n",
    "model.add(Dense(32, activation='relu'))\n",
    "model.add(Dense(1, activation='sigmoid'))\n",
    "model.summary()\n",
    "\n",
    "model.compile(optimizer='rmsprop', loss='binary_crossentropy', metrics=['acc'])\n",
    "history = model.fit(x_train, y_train, batch_size=32, epochs=10, validation_data=(x_test,y_test))\n",
    "\n",
    "acc = history.history['acc']\n",
    "val_acc = history.history['val_acc']\n",
    "loss = history.history['loss']\n",
    "val_loss = history.history['val_loss']\n",
    "epochs = range(1, len(acc) + 1)\n",
    "\n",
    "plt.plot(epochs, acc, 'bo', label = 'Training acc')\n",
    "plt.plot(epochs, val_acc, 'b', label = 'Validation acc')\n",
    "plt.title(\"Training & Validation Accuracy\")\n",
    "plt.legend()\n",
    "\n",
    "plt.figure()\n",
    "\n",
    "plt.plot(epochs, loss, 'bo', label = 'Training Loss')\n",
    "plt.plot(epochs, val_loss, 'b', label = 'Validation Loss')\n",
    "plt.title(\"Training & Validation Loss\")\n",
    "plt.legend()\n",
    "\n",
    "plt.show()\n",
    "\n",
    "### Validation accuracy stalls in the low 70s. So in this case, pretrained word embeddings outperform jointly learned embeddings. \n",
    "### If you increase the number of training samples, this will quickly stop being the case"
   ]
  },
  {
   "cell_type": "code",
   "execution_count": null,
   "metadata": {},
   "outputs": [],
   "source": [
    "Let’s evaluate the model on the test data. First, you need to tokenize the test data."
   ]
  },
  {
   "cell_type": "code",
   "execution_count": 149,
   "metadata": {},
   "outputs": [
    {
     "name": "stdout",
     "output_type": "stream",
     "text": [
      "17243/17243 [==============================] - 2s 116us/step\n"
     ]
    },
    {
     "data": {
      "text/plain": [
       "[0.828723011662289, 0.7131589630579047]"
      ]
     },
     "execution_count": 149,
     "metadata": {},
     "output_type": "execute_result"
    }
   ],
   "source": [
    "#################### 6.17 Tokenizing the data of the test set ##################################################\n",
    "\n",
    "imdb_dir  = '/Users/Satish/python_files/IMDB_Data/aclImdb/aclImdb/'\n",
    "test_dir = os.path.join(imdb_dir, 'test')\n",
    "\n",
    "labels = []\n",
    "texts = []\n",
    "\n",
    "for label_type in ['neg', 'pos']:\n",
    "    dir_name = os.path.join(test_dir, label_type)\n",
    "#     print(dir_name)\n",
    "    for fname in os.listdir(dir_name):\n",
    "#         print(fname[-4:])\n",
    "        if fname[-4:] == '.txt':\n",
    "            f = open(os.path.join(dir_name, fname), encoding=\"utf8\")\n",
    "            texts.append(f.read())\n",
    "            f.close()\n",
    "            if label_type == 'neg':\n",
    "                labels.append(0)\n",
    "            else:\n",
    "                labels.append(1)\n",
    "                \n",
    "sequences = tokenizer.texts_to_sequences(texts)\n",
    "x_val = pad_sequences(sequences, maxlen=maxlen) \n",
    "y_val = np.asarray(labels)\n",
    "\n",
    "#################### 6.18 Evaluating the model on the test set ##################################################\n",
    "\n",
    "model.load_weights('pre_trained_glove_model.h5')\n",
    "model.evaluate(x_val, y_val)\n",
    "\n",
    "### test accuracy of 71.31%. Working with just a handful of training samples is difficult!"
   ]
  }
 ],
 "metadata": {
  "kernelspec": {
   "display_name": "Python 3",
   "language": "python",
   "name": "python3"
  },
  "language_info": {
   "codemirror_mode": {
    "name": "ipython",
    "version": 3
   },
   "file_extension": ".py",
   "mimetype": "text/x-python",
   "name": "python",
   "nbconvert_exporter": "python",
   "pygments_lexer": "ipython3",
   "version": "3.6.5"
  }
 },
 "nbformat": 4,
 "nbformat_minor": 2
}
