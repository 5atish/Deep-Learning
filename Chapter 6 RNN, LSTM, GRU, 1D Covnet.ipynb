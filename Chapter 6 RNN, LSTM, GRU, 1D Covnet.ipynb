{
 "cells": [
  {
   "cell_type": "markdown",
   "metadata": {},
   "source": [
    "Numpy implementation of the forward pass of the simple RNN."
   ]
  },
  {
   "cell_type": "code",
   "execution_count": 3,
   "metadata": {},
   "outputs": [
    {
     "data": {
      "text/plain": [
       "(6400,)"
      ]
     },
     "execution_count": 3,
     "metadata": {},
     "output_type": "execute_result"
    }
   ],
   "source": [
    "#################### 6.21 Numpy implementation of a simple RNN #################################################\n",
    "\n",
    "import numpy as np\n",
    "\n",
    "### Number of timesteps in the input sequence\n",
    "timesteps = 100\n",
    "### Dimensionality of the input feature space\n",
    "input_features = 32\n",
    "### Dimensionality of the output feature space\n",
    "output_features = 64\n",
    "### Input data: random noise for the sake of the example\n",
    "inputs = np.random.random((timesteps, input_features))\n",
    "# print(inputs)\n",
    "# inputs.shape\n",
    "### Initial state: an all-zero vector\n",
    "state_t = np.zeros((output_features,))\n",
    "# state_t.shape\n",
    "\n",
    "### Create random weight matrices\n",
    "\n",
    "W = np.random.random((output_features, input_features))\n",
    "U = np.random.random((output_features, output_features))\n",
    "b = np.random.random((output_features,))\n",
    "\n",
    "successive_outputs = []\n",
    "for input_t in inputs:\n",
    "    ### Combines the input with the current state (the previous output) to obtain the current output\n",
    "    output_t = np.tanh(np.dot(W, input_t) + np.dot(U, state_t) + b)\n",
    "    ### Stores this output in a list\n",
    "    successive_outputs.append(output_t)\n",
    "    ### Updates the state of the network for the next timestep\n",
    "    state_t = output_t\n",
    "### The final output is a 2D tensor of shape (timesteps, output_features).\n",
    "final_output_sequence = np.concatenate(successive_outputs, axis=0)\n",
    "final_output_sequence.shape"
   ]
  },
  {
   "cell_type": "markdown",
   "metadata": {},
   "source": [
    "RNN a model on the IMDB movie-review-classification problem"
   ]
  },
  {
   "cell_type": "code",
   "execution_count": 1,
   "metadata": {},
   "outputs": [
    {
     "name": "stderr",
     "output_type": "stream",
     "text": [
      "C:\\Users\\Satish\\Anaconda3\\lib\\site-packages\\h5py\\__init__.py:36: FutureWarning: Conversion of the second argument of issubdtype from `float` to `np.floating` is deprecated. In future, it will be treated as `np.float64 == np.dtype(float).type`.\n",
      "  from ._conv import register_converters as _register_converters\n",
      "Using TensorFlow backend.\n"
     ]
    },
    {
     "name": "stdout",
     "output_type": "stream",
     "text": [
      "loading data...\n",
      "train sequences 25000\n",
      "test sequences 25000\n",
      "Pad sequences (sample x time)\n",
      "input_train shape (25000, 500)\n",
      "input_test shape (25000, 500)\n"
     ]
    }
   ],
   "source": [
    "#################### 6.22 Preparing the IMDB data ###############################################################\n",
    "\n",
    "from keras.datasets import imdb\n",
    "from keras.layers import Dense\n",
    "from keras.preprocessing import sequence\n",
    "\n",
    "### Number of words to consider as features\n",
    "max_features = 10000\n",
    "maxlen = 500\n",
    "batch_size = 32\n",
    "\n",
    "print('loading data...')\n",
    "(input_train, y_train), (input_test, y_test) = imdb.load_data(num_words=max_features)\n",
    "print('train sequences', len(input_train))\n",
    "print('test sequences', len(input_test))\n",
    "\n",
    "print('Pad sequences (sample x time)')\n",
    "input_train = sequence.pad_sequences(input_train, maxlen=maxlen)\n",
    "input_test = sequence.pad_sequences(input_test, maxlen=maxlen)\n",
    "print('input_train shape', input_train.shape)\n",
    "print('input_test shape', input_test.shape)"
   ]
  },
  {
   "cell_type": "code",
   "execution_count": 4,
   "metadata": {},
   "outputs": [
    {
     "name": "stdout",
     "output_type": "stream",
     "text": [
      "Train on 20000 samples, validate on 5000 samples\n",
      "Epoch 1/10\n",
      "20000/20000 [==============================] - 24s 1ms/step - loss: 0.6606 - acc: 0.5912 - val_loss: 0.5430 - val_acc: 0.7414\n",
      "Epoch 2/10\n",
      "20000/20000 [==============================] - 24s 1ms/step - loss: 0.4206 - acc: 0.8179 - val_loss: 1.2730 - val_acc: 0.5290\n",
      "Epoch 3/10\n",
      "20000/20000 [==============================] - 24s 1ms/step - loss: 0.3164 - acc: 0.8732 - val_loss: 0.3864 - val_acc: 0.8296\n",
      "Epoch 4/10\n",
      "20000/20000 [==============================] - 25s 1ms/step - loss: 0.2442 - acc: 0.9039 - val_loss: 0.3699 - val_acc: 0.8444\n",
      "Epoch 5/10\n",
      "20000/20000 [==============================] - 26s 1ms/step - loss: 0.1684 - acc: 0.9385 - val_loss: 0.4436 - val_acc: 0.8122\n",
      "Epoch 6/10\n",
      "20000/20000 [==============================] - 25s 1ms/step - loss: 0.1195 - acc: 0.9584 - val_loss: 0.4393 - val_acc: 0.8552\n",
      "Epoch 7/10\n",
      "20000/20000 [==============================] - 26s 1ms/step - loss: 0.0784 - acc: 0.9739 - val_loss: 0.5437 - val_acc: 0.7826\n",
      "Epoch 8/10\n",
      "20000/20000 [==============================] - 28s 1ms/step - loss: 0.0482 - acc: 0.9857 - val_loss: 0.5025 - val_acc: 0.8388\n",
      "Epoch 9/10\n",
      "20000/20000 [==============================] - 26s 1ms/step - loss: 0.0360 - acc: 0.9890 - val_loss: 0.5695 - val_acc: 0.8494\n",
      "Epoch 10/10\n",
      "20000/20000 [==============================] - 26s 1ms/step - loss: 0.0239 - acc: 0.9933 - val_loss: 0.6077 - val_acc: 0.8214\n"
     ]
    },
    {
     "data": {
      "image/png": "[encoded data removed]",
      "text/plain": [
       "<Figure size 432x288 with 1 Axes>"
      ]
     },
     "metadata": {},
     "output_type": "display_data"
    },
    {
     "data": {
      "image/png": "[encoded data removed]",
      "text/plain": [
       "<Figure size 432x288 with 1 Axes>"
      ]
     },
     "metadata": {},
     "output_type": "display_data"
    }
   ],
   "source": [
    "#################### 6.23 Training the model with Embedding and SimpleRNN layers #################################\n",
    "\n",
    "from keras.models import Sequential\n",
    "from keras.layers import Dense, Embedding, SimpleRNN\n",
    "import matplotlib.pyplot as plt\n",
    "\n",
    "model = Sequential()\n",
    "model.add(Embedding(max_features, 32))\n",
    "model.add(SimpleRNN(32))\n",
    "model.add(Dense(1, activation='sigmoid'))\n",
    "\n",
    "model.compile(optimizer='rmsprop', loss='binary_crossentropy', metrics = ['acc'])\n",
    "history = model.fit(input_train, y_train, epochs=10, batch_size=128, validation_split=0.2)\n",
    "## validation acc : 85.5%\n",
    "\n",
    "#################### 6.24 Plotting results ######################################################################\n",
    "\n",
    "acc = history.history['acc']\n",
    "val_acc = history.history['val_acc']\n",
    "loss = history.history['loss']\n",
    "val_loss = history.history['val_loss']\n",
    "epochs = range(1, len(acc) + 1)\n",
    "\n",
    "plt.plot(epochs, acc, 'bo', label = 'Training acc')\n",
    "plt.plot(epochs, val_acc, 'b', label = 'Validation acc')\n",
    "plt.title(\"Training & Validation Accuracy\")\n",
    "plt.legend()\n",
    "\n",
    "plt.figure()\n",
    "\n",
    "plt.plot(epochs, loss, 'bo', label = 'Training Loss')\n",
    "plt.plot(epochs, val_loss, 'b', label = 'Validation Loss')\n",
    "plt.title(\"Training & Validation Loss\")\n",
    "plt.legend()\n",
    "\n",
    "plt.show()"
   ]
  },
  {
   "cell_type": "markdown",
   "metadata": {},
   "source": [
    "Model using an LSTM(Long Short-Term Memory) Layer and IMDB data"
   ]
  },
  {
   "cell_type": "code",
   "execution_count": 7,
   "metadata": {},
   "outputs": [
    {
     "name": "stdout",
     "output_type": "stream",
     "text": [
      "Train on 20000 samples, validate on 5000 samples\n",
      "Epoch 1/10\n",
      "20000/20000 [==============================] - 97s 5ms/step - loss: 0.5227 - acc: 0.7604 - val_loss: 0.4101 - val_acc: 0.8216\n",
      "Epoch 2/10\n",
      "20000/20000 [==============================] - 94s 5ms/step - loss: 0.3074 - acc: 0.8784 - val_loss: 0.4224 - val_acc: 0.8086\n",
      "Epoch 3/10\n",
      "20000/20000 [==============================] - 96s 5ms/step - loss: 0.2410 - acc: 0.9072 - val_loss: 0.2840 - val_acc: 0.8860\n",
      "Epoch 4/10\n",
      "20000/20000 [==============================] - 94s 5ms/step - loss: 0.2029 - acc: 0.9264 - val_loss: 0.2872 - val_acc: 0.8844\n",
      "Epoch 5/10\n",
      "20000/20000 [==============================] - 101s 5ms/step - loss: 0.1777 - acc: 0.9347 - val_loss: 0.3457 - val_acc: 0.8846\n",
      "Epoch 6/10\n",
      "20000/20000 [==============================] - 99s 5ms/step - loss: 0.1616 - acc: 0.9428 - val_loss: 0.3650 - val_acc: 0.8828\n",
      "Epoch 7/10\n",
      "20000/20000 [==============================] - 97s 5ms/step - loss: 0.1463 - acc: 0.9479 - val_loss: 0.3837 - val_acc: 0.8638\n",
      "Epoch 8/10\n",
      "20000/20000 [==============================] - 103s 5ms/step - loss: 0.1363 - acc: 0.9519 - val_loss: 0.3641 - val_acc: 0.8866\n",
      "Epoch 9/10\n",
      "20000/20000 [==============================] - 110s 5ms/step - loss: 0.1213 - acc: 0.9587 - val_loss: 0.4595 - val_acc: 0.8702\n",
      "Epoch 10/10\n",
      "20000/20000 [==============================] - 98s 5ms/step - loss: 0.1162 - acc: 0.9590 - val_loss: 0.4176 - val_acc: 0.8384\n"
     ]
    },
    {
     "data": {
      "image/png": "[encoded data removed]",
      "text/plain": [
       "<Figure size 432x288 with 1 Axes>"
      ]
     },
     "metadata": {},
     "output_type": "display_data"
    },
    {
     "data": {
      "image/png": "[encoded data removed]",
      "text/plain": [
       "<Figure size 432x288 with 1 Axes>"
      ]
     },
     "metadata": {},
     "output_type": "display_data"
    }
   ],
   "source": [
    "from keras.models import Sequential\n",
    "from keras.layers import Embedding,LSTM,Dense\n",
    "import matplotlib.pyplot as plt\n",
    "\n",
    "model = Sequential()\n",
    "model.add(Embedding(max_features, 32))\n",
    "model.add(LSTM(32))\n",
    "model.add(Dense(1, activation='sigmoid'))\n",
    "\n",
    "model.compile(optimizer='rmsprop', loss='binary_crossentropy', metrics=['acc'])\n",
    "history = model.fit(input_train, y_train, batch_size=128, epochs=10, validation_split=0.2)\n",
    "### Validation_acc = 87%\n",
    "\n",
    "acc = history.history['acc']\n",
    "val_acc = history.history['val_acc']\n",
    "loss = history.history['loss']\n",
    "val_loss = history.history['val_loss']\n",
    "epochs = range(1, len(acc) + 1)\n",
    "\n",
    "plt.plot(epochs, acc, 'bo', label = 'Training acc')\n",
    "plt.plot(epochs, val_acc, 'b', label = 'Validation acc')\n",
    "plt.title(\"Training & Validation Accuracy\")\n",
    "plt.legend()\n",
    "\n",
    "plt.figure()\n",
    "\n",
    "plt.plot(epochs, loss, 'bo', label = 'Training Loss')\n",
    "plt.plot(epochs, val_loss, 'b', label = 'Validation Loss')\n",
    "plt.title(\"Training & Validation Loss\")\n",
    "plt.legend()\n",
    "\n",
    "plt.show()"
   ]
  },
  {
   "cell_type": "markdown",
   "metadata": {},
   "source": [
    "################# Numerical Timeseries Dataset for temperature-forecasting problem ################################\n",
    "\n",
    "Weather timeseries dataset recorded at the Weather Station at the Max Planck Institute for Biogeochemistry in Jena, Germany. Dataset consist of 14 different quantities (such air temperature, atmospheric pressure,\n",
    "humidity, wind direction, and so on) were recorded every 10 minutes, over several\n",
    "years.\n",
    "\n",
    "Goal: Build a model that takes as input some data from the recent past (a few days’ worth of data points) and predicts the air temperature 24 hours in the future."
   ]
  },
  {
   "cell_type": "code",
   "execution_count": 19,
   "metadata": {},
   "outputs": [
    {
     "data": {
      "text/plain": [
       "range(0, 420551)"
      ]
     },
     "execution_count": 19,
     "metadata": {},
     "output_type": "execute_result"
    }
   ],
   "source": [
    "################################ 6.28 Inspecting the data of the Jena weather dataset ###############################\n",
    "\n",
    "import os\n",
    "\n",
    "data_dir = '/Users/Satish/python_files/Jena_weather_dataset'\n",
    "fname = os.path.join(data_dir, 'jena_climate_2009_2016.csv')\n",
    "\n",
    "f = open(fname)\n",
    "data = f.read()\n",
    "f.close()\n",
    "\n",
    "lines = data.split('\\n')\n",
    "header = lines[0].split(',')\n",
    "lines = lines[1:]\n",
    "\n",
    "# print(header)\n",
    "# print(len(lines))\n",
    "# print(len(header))\n",
    "\n",
    "################################ 6.29 Parsing the data ##############################################################\n",
    "\n",
    "import numpy as np\n",
    " \n",
    "# float_data = np.zeros((len(lines), len(header) - 1))\n",
    "# for i, line in enumerate(lines):\n",
    "#     values = [float(x) for x in line.split(',')[1:]]\n",
    "#     float_data[i, :] = values\n",
    "\n",
    "##    \n",
    "# print(float_data.shape) ### (420551, 14)\n",
    "# float_data[1,:]\n",
    "\n",
    "################################## 6.29 Parsing the data ##############################################################\n",
    "\n",
    "import matplotlib.pyplot as plt\n",
    "\n",
    "temp = float_data[:,1]\n",
    "# plt.plot(range(len(temp)), temp)\n",
    "range(len(temp))\n",
    "# temp\n",
    "\n",
    "### the data is recorded every 10 minutes, you get 144 data points per day.\n",
    "# plt.plot(range(1440), temp[:1440]) ### first 10 days of the temperature timeseries"
   ]
  },
  {
   "cell_type": "markdown",
   "metadata": {},
   "source": [
    "############################### 6.3.2 Preparing the data ##################################################\n",
    "\n",
    "The exact formulation of the problem is given data going as far back as timesteps (a timestep is 10 minutes lookback) and sampled every steps timesteps, can you predict the temperature in delay timesteps?\n",
    "\n",
    "To get start, we need to do two thing:\n",
    "1)Preprocess the data to a format a neural network can ingest. Data is already numerical, so there is no need of vectorization. But each timeseries in the data is on a a different scale (e.g. temperature is typically\n",
    "between -20 and +30 and atmospheric pressure, measured in mbar, is around 1,000). So normalize each timeseries independently that they all take small values on a similar scale.\n",
    "\n",
    "2)Create generator that takes the current array of float data and yields batches of data from the recent past, along with a target temperature in the future.\n",
    "\n",
    "So there is need to preprocess the data by subtracting the mean of each timeseries and dividing by the standard deviation. we are going to use the first 200,000 timesteps as training data, so we will compute the mean and standard deviation only on this fraction of the data.\n"
   ]
  },
  {
   "cell_type": "code",
   "execution_count": 23,
   "metadata": {},
   "outputs": [
    {
     "data": {
      "text/plain": [
       "array([[ 0.90014748, -1.93135845, -1.98211036, -1.86280029,  1.07285236,\n",
       "        -1.30742164, -1.47375773, -0.79868641, -1.4762674 , -1.47815522,\n",
       "         2.12375056, -0.72950452, -0.78067973, -0.27613603],\n",
       "       [ 0.9060434 , -1.97541381, -2.02567   , -1.91582958,  1.07883061,\n",
       "        -1.32042698, -1.4951961 , -0.80075238, -1.49502455, -1.49932141,\n",
       "         2.17199852, -0.93124017, -0.88794488, -0.46317443],\n",
       "       [ 0.90132666, -1.98671006, -2.03683914, -1.92001611,  1.10872183,\n",
       "        -1.32302805, -1.49757814, -0.80281834, -1.49877598, -1.50167321,\n",
       "         2.18235418, -1.27614304, -1.26122763, -0.05330633],\n",
       "       [ 0.89896829, -1.96411757, -2.01338395, -1.88652392,  1.12665657,\n",
       "        -1.31652538, -1.4832859 , -0.80488431, -1.48377026, -1.48756241,\n",
       "         2.15764181, -1.17852902, -1.31700551,  0.25149699],\n",
       "       [ 0.89896829, -1.95959907, -2.01003321, -1.8823374 ,  1.12067832,\n",
       "        -1.31522484, -1.48090386, -0.80488431, -1.48377026, -1.48521061,\n",
       "         2.15317004, -1.19154422, -1.26122763,  0.43968995],\n",
       "       [ 0.89778911, -1.93474733, -1.98434419, -1.84605419,  1.13861306,\n",
       "        -1.30742164, -1.46661161, -0.80488431, -1.46876453, -1.47109982,\n",
       "         2.12633947, -1.26312784, -1.26122763,  0.19030541],\n",
       "       [ 0.89778911, -1.88617347, -1.93631689, -1.77906981,  1.16252604,\n",
       "        -1.29311575, -1.43802713, -0.80695028, -1.43875308, -1.44287823,\n",
       "         2.07503188, -1.28265064, -1.26122763, -0.11218879],\n",
       "       [ 0.89778911, -1.88617347, -1.93631689, -1.78744286,  1.13861306,\n",
       "        -1.29311575, -1.44040917, -0.80488431, -1.44250452, -1.44523003,\n",
       "         2.07526724, -1.27614304, -1.31700551, -0.66522209],\n",
       "       [ 0.89778911, -1.91893259, -1.9687074 , -1.83907665,  1.10274359,\n",
       "        -1.30352003, -1.46422957, -0.80075238, -1.4650131 , -1.46874802,\n",
       "         2.11009991, -1.21757463, -1.20974035,  0.14181398],\n",
       "       [ 0.90132666, -1.97767306, -2.02790383, -1.92420263,  1.06089587,\n",
       "        -1.32042698, -1.49996018, -0.79868641, -1.49877598, -1.50167321,\n",
       "         2.1731753 , -1.01583899, -1.15396247,  0.10140444]])"
      ]
     },
     "execution_count": 23,
     "metadata": {},
     "output_type": "execute_result"
    }
   ],
   "source": [
    "################################## 6.32 Normalizing the data ########################################################\n",
    "\n",
    "mean = float_data[:200000,:].mean(axis=0)\n",
    "# print(mean)\n",
    "float_data -= mean\n",
    "std = float_data[:200000,:].std(axis=0)\n",
    "# print(std)\n",
    "float_data /= std\n",
    "float_data[:10,:]"
   ]
  },
  {
   "cell_type": "markdown",
   "metadata": {},
   "source": [
    "################################## Prepare data generator ########################################################\n",
    "\n",
    "Data generator outputs tuple (samples, targets), where samples is one batch of input data and targets is the corresponding array of target temperatures.\n",
    "\n",
    "It takes following parameter arguments:\n",
    "\n",
    "data = The original array of floating-point data\n",
    "\n",
    "lookback = number of timesteps back the input data should go (720—Observations will go back 5 days) \n",
    "\n",
    "delay = Number of timesteps in the future the target should be (144-Targets will be 24 hours in the future)\n",
    "\n",
    "steps = The period, in timesteps, at which you sample data (6 Observations will be sampled at one data point per hour)\n",
    "\n",
    "min_index & max_index = Indices in the data array that delimit which timesteps to draw from\n",
    "                        (useful for keeping a segment of the data for validation and testing)\n",
    "                        \n",
    "batch_size = The number of samples per batch.        \n",
    "\n",
    "shuffle = Whether to shuffle the samples or draw them in chronological order\n"
   ]
  },
  {
   "cell_type": "code",
   "execution_count": 25,
   "metadata": {},
   "outputs": [],
   "source": [
    "######################## 6.33 Generator yielding timeseries samples and their targets ###############################\n",
    "\n",
    "def generator(data, lookback, delay, min_index, max_index, shuffle=False, batch_size=128, step=6):\n",
    "    if max_index is None:\n",
    "        max_index = len(data) - delay - 1\n",
    "    i = min_index + lookback\n",
    "    while 1:\n",
    "        if shuffle:\n",
    "            rows = np.random.randint(min_index + lookback, max_index, size=batch_size)\n",
    "        else:\n",
    "            if i + batch_size >= max_index:\n",
    "                i = min_index + lookback\n",
    "            rows = np.arange(i, min(i + batch_size, max_index))\n",
    "            i += len(rows)\n",
    "        samples = np.zeros((len(rows), lookback // step,data.shape[-1]))\n",
    "        targets = np.zeros((len(rows),))\n",
    "        for j, row in enumerate(rows):\n",
    "            indices = range(rows[j] - lookback, rows[j], step)\n",
    "            samples[j] = data[indices]\n",
    "            targets[j] = data[rows[j] + delay][1]\n",
    "        yield samples, targets"
   ]
  },
  {
   "cell_type": "markdown",
   "metadata": {},
   "source": [
    "Let's use this generator function to instantiate three generators as below\n",
    "\n",
    "1)Training generator looks at the first 200,000 timesteps\n",
    "\n",
    "2)Validation generator looks at the following 100,000\n",
    "\n",
    "3)Test generator looks at the remainder."
   ]
  },
  {
   "cell_type": "code",
   "execution_count": 26,
   "metadata": {},
   "outputs": [],
   "source": [
    "######################## 6.34 Preparing the training, validation, and test generators ###############################\n",
    "\n",
    "lookback = 1440\n",
    "step = 6\n",
    "delay = 144\n",
    "batch_size = 128\n",
    "\n",
    "train_gen = generator(data = float_data, \n",
    "                      lookback = lookback, \n",
    "                      delay = delay, \n",
    "                      min_index = 0, \n",
    "                      max_index = 200000, \n",
    "                      shuffle=True, \n",
    "                      batch_size=batch_size, \n",
    "                      step=step)\n",
    "\n",
    "val_gen = generator(data = float_data, \n",
    "                      lookback = lookback, \n",
    "                      delay = delay, \n",
    "                      min_index = 200001, \n",
    "                      max_index = 300000, \n",
    "                      shuffle=True, \n",
    "                      batch_size=batch_size, \n",
    "                      step=step)\n",
    "\n",
    "test_gen = generator(data = float_data, \n",
    "                      lookback = lookback, \n",
    "                      delay = delay, \n",
    "                      min_index = 300001, \n",
    "                      max_index = None, \n",
    "                      shuffle=True, \n",
    "                      batch_size=batch_size, \n",
    "                      step=step)\n",
    "\n",
    "### steps to draw from val_gen in order to see the entire validation set\n",
    "val_steps = (300000 -200001 - lookback)\n",
    "### steps to draw from test_gen in order to see the entire test set\n",
    "val_steps = (len(float_data) - 300001 - lookback)\n"
   ]
  },
  {
   "cell_type": "markdown",
   "metadata": {},
   "source": [
    "######################## 6.3.3 A common-sense, non-machine-learning baseline ###############################\n",
    "\n",
    "let’s use common-sense approach as It will serve as a sanity check, and it will establish a baseline that we will have to beat in order to demonstrate the usefulness of advanced machine-learning models.\n",
    "for instance, the temperature timeseries can safely be assumed to be continuous (the temperatures tomorrow are likely to be close to the temperatures today) as well as periodical with a daily period. \n",
    "Thus a common-sense approach is to always predict that the temperature 24 hours from now will be equal to the temperature right now.\n",
    "\n",
    "Evaluate this approach, using the mean absolute error (MAE) metric:  np.mean(np.abs(preds - targets))\n",
    "\n",
    "######################## Converting the MAE back to a Celsius error ###############################\n",
    "The temperature data has been normalized to be centered on 0 and have a standard deviation of 1, thus this gives an MAE of 0.29. It translates to an average absolute error of 0.29 × temperature_std degrees "
   ]
  },
  {
   "cell_type": "code",
   "execution_count": 29,
   "metadata": {},
   "outputs": [],
   "source": [
    "######################## 6.35 Computing the common-sense baseline MAE ###############################\n",
    "\n",
    "def evalutate_naive_method():\n",
    "    batch_maes = []\n",
    "    for step in range(val_steps):\n",
    "        samples, targets = next(val_gen)\n",
    "        preds = sample[:, -1, 1]\n",
    "        mae = np.mean(np.abs(preds - targets))\n",
    "        batch_maes.append(mae)\n",
    "    print(np.mean(batch_maes))\n",
    "    \n",
    "# evalutate_naive_method()\n",
    "\n",
    "######################## 6.36 Converting the MAE back to a Celsius error ###############################\n",
    "\n",
    "celsius_mae = 0.29 * std[1]"
   ]
  },
  {
   "cell_type": "markdown",
   "metadata": {},
   "source": [
    "######################## 6.3.4 A basic machine-learning approach ###############################\n",
    "\n",
    "To establish a common-sense baseline before trying machine-learning approaches, we try simple, cheap machine-learning models (such as small, densely connected networks) before looking into complicated and computationally expensive models such as RNNs."
   ]
  },
  {
   "cell_type": "code",
   "execution_count": 45,
   "metadata": {},
   "outputs": [
    {
     "name": "stdout",
     "output_type": "stream",
     "text": [
      "_________________________________________________________________\n",
      "Layer (type)                 Output Shape              Param #   \n",
      "=================================================================\n",
      "flatten_2 (Flatten)          (None, 3360)              0         \n",
      "_________________________________________________________________\n",
      "dense_13 (Dense)             (None, 32)                107552    \n",
      "_________________________________________________________________\n",
      "dense_14 (Dense)             (None, 1)                 33        \n",
      "=================================================================\n",
      "Total params: 107,585\n",
      "Trainable params: 107,585\n",
      "Non-trainable params: 0\n",
      "_________________________________________________________________\n"
     ]
    }
   ],
   "source": [
    "######################## 6.37 Training and evaluating a densely connected model ###############################\n",
    "\n",
    "from keras.models import Sequential\n",
    "from keras.layers import Flatten, Dense\n",
    "from keras.optimizers import RMSprop\n",
    "import matplotlib.pyplot as plt\n",
    "\n",
    "model = Sequential()\n",
    "model.add(Flatten(input_shape=(lookback // step, float_data.shape[-1])))\n",
    "model.add(Dense(32, activation='relu'))\n",
    "model.add(Dense(1))\n",
    "model.summary()\n",
    "model.compile(optimizer=RMSprop(), loss='mae')\n",
    "history = model.fit_generator(train_gen, \n",
    "                              epochs=20, \n",
    "                              steps_per_epoch=500, \n",
    "                              validation_data=val_gen, \n",
    "                              validation_steps=val_steps)\n",
    "\n",
    "######################## 6.38 Plotting results ###############################\n",
    "\n",
    "loss = history.history['loss']\n",
    "val_loss = history.history['val_loss']\n",
    "\n",
    "epochs = range(1, len(loss) + 1)\n",
    "\n",
    "plt.figure()\n",
    "\n",
    "plt.plot(epochs, loss, 'bo', label='training loss')\n",
    "plt.plot(epochs, val_loss, 'b', label='validation loss')\n",
    "plt.title('Training & Validation loss')\n",
    "plt.legend()\n",
    "\n",
    "plt.show()\n"
   ]
  },
  {
   "cell_type": "markdown",
   "metadata": {},
   "source": [
    "###################################### 6.3.5 recurrent baseline ################################################\n",
    "\n",
    "Instead of the LSTM layer, we will use the GRU (Gated recurrent unit) layer which work using the same principle as LSTM, but they’re somewhat streamlined and thus cheaper to run (although they may not have as much representational power as LSTM).\n"
   ]
  },
  {
   "cell_type": "code",
   "execution_count": 44,
   "metadata": {},
   "outputs": [
    {
     "name": "stdout",
     "output_type": "stream",
     "text": [
      "_________________________________________________________________\n",
      "Layer (type)                 Output Shape              Param #   \n",
      "=================================================================\n",
      "gru_13 (GRU)                 (None, 32)                4512      \n",
      "_________________________________________________________________\n",
      "dense_12 (Dense)             (None, 1)                 33        \n",
      "=================================================================\n",
      "Total params: 4,545\n",
      "Trainable params: 4,545\n",
      "Non-trainable params: 0\n",
      "_________________________________________________________________\n"
     ]
    }
   ],
   "source": [
    "######################## 6.37 Training and evaluating a GRU-based model #####################################\n",
    "\n",
    "from keras.models import Sequential\n",
    "from keras import layers\n",
    "from keras.optimizers import RMSprop\n",
    "import matplotlib.pyplot as plt\n",
    "\n",
    "model = Sequential()\n",
    "model.add(layers.GRU(32,input_shape=(None, float_data.shape[-1])))\n",
    "model.add(layers.Dense(1))\n",
    "model.summary()\n",
    "model.compile(optimizer=RMSprop(), loss='mae')\n",
    "history = model.fit_generator(train_gen, \n",
    "                              epochs=20, \n",
    "                              steps_per_epoch=500, \n",
    "                              validation_data=val_gen, \n",
    "                              validation_steps=val_steps)\n",
    "\n",
    "\n",
    "loss = history.history['loss']\n",
    "val_loss = history.history['val_loss']\n",
    "\n",
    "epochs = range(1, len(loss) + 1)\n",
    "\n",
    "plt.figure()\n",
    "\n",
    "plt.plot(epochs, loss, 'bo', label='training loss')\n",
    "plt.plot(epochs, val_loss, 'b', label='validation loss')\n",
    "plt.title('Training & Validation loss')\n",
    "plt.legend()\n",
    "\n",
    "plt.show()\n"
   ]
  },
  {
   "cell_type": "markdown",
   "metadata": {},
   "source": [
    "####################### 6.3.6 Using recurrent dropout to fight overfitting #########################################\n",
    "\n",
    "In order to regularize the representations formed by the recurrent gates of layers such as GRU and LSTM, a temporally constant dropout mask should be applied to the inner recurrent activations of the layer (a recurrent dropout mask).\n",
    "Using the same dropout mask at every timestep allows the network to properly propagate its learning error through time; a temporally random dropout mask would disrupt this error signal and be harmful to the learning process.\n",
    "Every recurrent layer in Keras has two dropout-related arguments: dropout, a float specifying the dropout rate for input units of the layer, and recurrent_dropout, specifying the dropout rate of the recurrent units."
   ]
  },
  {
   "cell_type": "code",
   "execution_count": 43,
   "metadata": {},
   "outputs": [
    {
     "name": "stdout",
     "output_type": "stream",
     "text": [
      "_________________________________________________________________\n",
      "Layer (type)                 Output Shape              Param #   \n",
      "=================================================================\n",
      "gru_12 (GRU)                 (None, 32)                4512      \n",
      "_________________________________________________________________\n",
      "dense_11 (Dense)             (None, 1)                 33        \n",
      "=================================================================\n",
      "Total params: 4,545\n",
      "Trainable params: 4,545\n",
      "Non-trainable params: 0\n",
      "_________________________________________________________________\n"
     ]
    }
   ],
   "source": [
    "######################## 6.40 Training and evaluating a dropout-regularized GRU-based model ######################\n",
    "\n",
    "from keras.models import Sequential\n",
    "from keras import layers\n",
    "from keras.optimizers import RMSprop\n",
    "import matplotlib.pyplot as plt\n",
    "\n",
    "model = Sequential()\n",
    "model.add(layers.GRU(32, dropout=0.2, recurrent_dropout=0.2,input_shape=(None, float_data.shape[-1])))\n",
    "model.add(layers.Dense(1))\n",
    "model.summary()\n",
    "model.compile(optimizer=RMSprop(), loss='mae')\n",
    "history = model.fit_generator(train_gen, \n",
    "                              epochs=40, \n",
    "                              steps_per_epoch=500, \n",
    "                              validation_data=val_gen, \n",
    "                              validation_steps=val_steps)\n",
    "\n",
    "\n",
    "loss = history.history['loss']\n",
    "val_loss = history.history['val_loss']\n",
    "\n",
    "epochs = range(1, len(loss) + 1)\n",
    "\n",
    "plt.figure()\n",
    "\n",
    "plt.plot(epochs, loss, 'bo', label='training loss')\n",
    "plt.plot(epochs, val_loss, 'b', label='validation loss')\n",
    "plt.title('Training & Validation loss')\n",
    "plt.legend()\n",
    "\n",
    "plt.show()\n"
   ]
  },
  {
   "cell_type": "markdown",
   "metadata": {},
   "source": [
    "####################### 6.3.7 Stacking recurrent layers #########################################\n",
    "\n",
    "The description of the universal machine-learning workflow is it’s generally a good idea to increase the capacity of your network until overfitting becomes the primary obstacle.\n",
    "Increasing network capacity is typically done by increasing the number of units in the layers or adding more layers.\n",
    "Recurrent layer stacking is a classic way to build more-powerful recurrent networks. all intermediate layers\n",
    "should return their full sequence of outputs (a 3D tensor) rather than their output at the last timestep. This is done by specifying return_sequences=True"
   ]
  },
  {
   "cell_type": "code",
   "execution_count": 42,
   "metadata": {},
   "outputs": [
    {
     "name": "stdout",
     "output_type": "stream",
     "text": [
      "_________________________________________________________________\n",
      "Layer (type)                 Output Shape              Param #   \n",
      "=================================================================\n",
      "gru_10 (GRU)                 (None, None, 32)          4512      \n",
      "_________________________________________________________________\n",
      "gru_11 (GRU)                 (None, 64)                18624     \n",
      "_________________________________________________________________\n",
      "dense_10 (Dense)             (None, 1)                 65        \n",
      "=================================================================\n",
      "Total params: 23,201\n",
      "Trainable params: 23,201\n",
      "Non-trainable params: 0\n",
      "_________________________________________________________________\n"
     ]
    }
   ],
   "source": [
    "######################## 6.41 Training and evaluating a dropout-regularized, stacked GRU model #################\n",
    "\n",
    "from keras.models import Sequential\n",
    "from keras import layers\n",
    "from keras.optimizers import RMSprop\n",
    "import matplotlib.pyplot as plt\n",
    "\n",
    "model = Sequential()\n",
    "model.add(layers.GRU(32, dropout=0.1, recurrent_dropout=0.5, return_sequences=True,\n",
    "                     input_shape=(None, float_data.shape[-1])))\n",
    "model.add(layers.GRU(64, activation='relu', dropout=0.1, recurrent_dropout=0.5))\n",
    "model.add(layers.Dense(1))\n",
    "model.summary()\n",
    "\n",
    "model.compile(optimizer=RMSprop(), loss='mae')\n",
    "history = model.fit_generator(train_gen, \n",
    "                              epochs=40, \n",
    "                              steps_per_epoch=500, \n",
    "                              validation_data=val_gen, \n",
    "                              validation_steps=val_steps)\n",
    "\n",
    "\n",
    "loss = history.history['loss']\n",
    "val_loss = history.history['val_loss']\n",
    "\n",
    "epochs = range(1, len(loss) + 1)\n",
    "\n",
    "plt.figure()\n",
    "\n",
    "plt.plot(epochs, loss, 'bo', label='training loss')\n",
    "plt.plot(epochs, val_loss, 'b', label='validation loss')\n",
    "plt.title('Training & Validation loss')\n",
    "plt.legend()\n",
    "\n",
    "plt.show()\n"
   ]
  },
  {
   "cell_type": "markdown",
   "metadata": {},
   "source": [
    "####################### 6.3.8 Using bidirectional RNNs #########################################\n",
    "\n",
    "A bidirectional RNN is a common RNN variant that can offer greater performance than a regular RNN on certain tasks. It’s frequently used in natural-language processing. bidirectional RNN exploits the order sensitivity of RNNs using two regular RNNs, such as the GRU and LSTM layers. Each of which processes the input sequence in one direction and then merging their representations.\n",
    "we need to do is write a variant of the data generator where the input sequences are reverted along the time dimension (replace the last line with yield samples[:, ::-1, :], targets)."
   ]
  },
  {
   "cell_type": "code",
   "execution_count": 47,
   "metadata": {},
   "outputs": [
    {
     "name": "stdout",
     "output_type": "stream",
     "text": [
      "Train on 20000 samples, validate on 5000 samples\n",
      "Epoch 1/10\n",
      "20000/20000 [==============================] - 9s 426us/step - loss: 0.6042 - acc: 0.6628 - val_loss: 0.5543 - val_acc: 0.7114\n",
      "Epoch 2/10\n",
      "20000/20000 [==============================] - 7s 334us/step - loss: 0.4856 - acc: 0.7630 - val_loss: 0.5611 - val_acc: 0.7106\n",
      "Epoch 3/10\n",
      "20000/20000 [==============================] - 7s 349us/step - loss: 0.4394 - acc: 0.7904 - val_loss: 0.5688 - val_acc: 0.7102\n",
      "Epoch 4/10\n",
      "20000/20000 [==============================] - 6s 319us/step - loss: 0.4049 - acc: 0.8140 - val_loss: 0.5956 - val_acc: 0.7076\n",
      "Epoch 5/10\n",
      "20000/20000 [==============================] - 6s 316us/step - loss: 0.3710 - acc: 0.8328 - val_loss: 0.6392 - val_acc: 0.7024\n",
      "Epoch 6/10\n",
      "20000/20000 [==============================] - 7s 347us/step - loss: 0.3380 - acc: 0.8508 - val_loss: 0.6607 - val_acc: 0.7036\n",
      "Epoch 7/10\n",
      "20000/20000 [==============================] - 6s 321us/step - loss: 0.3071 - acc: 0.8637 - val_loss: 0.7539 - val_acc: 0.6918\n",
      "Epoch 8/10\n",
      "20000/20000 [==============================] - 7s 363us/step - loss: 0.2770 - acc: 0.8791 - val_loss: 0.7755 - val_acc: 0.6978\n",
      "Epoch 9/10\n",
      "20000/20000 [==============================] - 7s 371us/step - loss: 0.2465 - acc: 0.8959 - val_loss: 0.8002 - val_acc: 0.6908\n",
      "Epoch 10/10\n",
      "20000/20000 [==============================] - 7s 359us/step - loss: 0.2157 - acc: 0.9107 - val_loss: 0.8841 - val_acc: 0.6876\n"
     ]
    },
    {
     "data": {
      "image/png": "[encoded data removed]",
      "text/plain": [
       "<Figure size 432x288 with 1 Axes>"
      ]
     },
     "metadata": {},
     "output_type": "display_data"
    },
    {
     "data": {
      "image/png": "[encoded data removed]",
      "text/plain": [
       "<Figure size 432x288 with 1 Axes>"
      ]
     },
     "metadata": {},
     "output_type": "display_data"
    }
   ],
   "source": [
    "######################## 6.42 Training and evaluating an LSTM using reversed sequences ######################\n",
    "\n",
    "\n",
    "from keras.datasets import imdb\n",
    "from keras.preprocessing import sequence\n",
    "from keras.models import Sequential\n",
    "from keras import layers \n",
    "import matplotlib.pyplot as plt\n",
    "\n",
    "max_features = 10000\n",
    "maxlen = 20\n",
    "\n",
    "(x_train, y_train), (x_test, y_test) = imdb.load_data(num_words=max_features)\n",
    "\n",
    "### reverse the sequences\n",
    "x_train = [x[::-1] for x in x_train]\n",
    "x_test = [x[::-1] for x in x_test]\n",
    "\n",
    "### Pad sequences\n",
    "x_train = sequence.pad_sequences(x_train, maxlen=maxlen)\n",
    "x_test = sequence.pad_sequences(x_test, maxlen=maxlen)\n",
    "\n",
    "\n",
    "model = Sequential()\n",
    "model.add(layers.Embedding(max_features, 128))\n",
    "model.add(layers.LSTM(32))\n",
    "model.add(layers.Dense(1, activation='sigmoid'))\n",
    "\n",
    "model.compile(optimizer='rmsprop', loss='binary_crossentropy', metrics=['acc'])\n",
    "history = model.fit(x_train, y_train, epochs=10, batch_size=128, validation_split=0.2)\n",
    "\n",
    "\n",
    "acc = history.history['acc']\n",
    "val_acc = history.history['val_acc']\n",
    "loss = history.history['loss']\n",
    "val_loss = history.history['val_loss']\n",
    "epochs = range(1, len(acc) + 1)\n",
    "\n",
    "plt.plot(epochs, acc, 'bo', label = 'Training acc')\n",
    "plt.plot(epochs, val_acc, 'b', label = 'Validation acc')\n",
    "plt.title(\"Training & Validation Accuracy\")\n",
    "plt.legend()\n",
    "\n",
    "plt.figure()\n",
    "\n",
    "plt.plot(epochs, loss, 'bo', label = 'Training Loss')\n",
    "plt.plot(epochs, val_loss, 'b', label = 'Validation Loss')\n",
    "plt.title(\"Training & Validation Loss\")\n",
    "plt.legend()\n",
    "\n",
    "plt.show()"
   ]
  },
  {
   "cell_type": "code",
   "execution_count": 46,
   "metadata": {},
   "outputs": [
    {
     "name": "stdout",
     "output_type": "stream",
     "text": [
      "Train on 20000 samples, validate on 5000 samples\n",
      "Epoch 1/10\n",
      "20000/20000 [==============================] - 7s 354us/step - loss: 0.6165 - acc: 0.6457 - val_loss: 0.5765 - val_acc: 0.6916\n",
      "Epoch 2/10\n",
      "20000/20000 [==============================] - 6s 280us/step - loss: 0.4979 - acc: 0.7545 - val_loss: 0.5606 - val_acc: 0.7134\n",
      "Epoch 3/10\n",
      "20000/20000 [==============================] - 5s 266us/step - loss: 0.4517 - acc: 0.7884 - val_loss: 0.5526 - val_acc: 0.7150\n",
      "Epoch 4/10\n",
      "20000/20000 [==============================] - 5s 254us/step - loss: 0.4250 - acc: 0.8021 - val_loss: 0.5632 - val_acc: 0.7074\n",
      "Epoch 5/10\n",
      "20000/20000 [==============================] - 6s 281us/step - loss: 0.4021 - acc: 0.8170 - val_loss: 0.5975 - val_acc: 0.7056\n",
      "Epoch 6/10\n",
      "20000/20000 [==============================] - 6s 280us/step - loss: 0.3861 - acc: 0.8239 - val_loss: 0.5984 - val_acc: 0.7062\n",
      "Epoch 7/10\n",
      "20000/20000 [==============================] - 7s 327us/step - loss: 0.3683 - acc: 0.8373 - val_loss: 0.6319 - val_acc: 0.6934\n",
      "Epoch 8/10\n",
      "20000/20000 [==============================] - 5s 261us/step - loss: 0.3502 - acc: 0.8445 - val_loss: 0.6209 - val_acc: 0.6968\n",
      "Epoch 9/10\n",
      "20000/20000 [==============================] - 5s 241us/step - loss: 0.3345 - acc: 0.8540 - val_loss: 0.6858 - val_acc: 0.6972\n",
      "Epoch 10/10\n",
      "20000/20000 [==============================] - 6s 285us/step - loss: 0.3183 - acc: 0.8649 - val_loss: 0.6603 - val_acc: 0.6968\n"
     ]
    },
    {
     "data": {
      "image/png": "[encoded data removed]",
      "text/plain": [
       "<Figure size 432x288 with 1 Axes>"
      ]
     },
     "metadata": {},
     "output_type": "display_data"
    },
    {
     "data": {
      "image/png": "[encoded data removed]",
      "text/plain": [
       "<Figure size 432x288 with 1 Axes>"
      ]
     },
     "metadata": {},
     "output_type": "display_data"
    }
   ],
   "source": [
    "######################## 6.43 Training and evaluating a bidirectional LSTM ####################################\n",
    "\n",
    "\n",
    "model = Sequential()\n",
    "model.add(layers.Embedding(max_features, 32))\n",
    "model.add(layers.Bidirectional(layers.LSTM(32)))\n",
    "model.add(layers.Dense(1, activation='sigmoid'))\n",
    "\n",
    "model.compile(optimizer='rmsprop', loss='binary_crossentropy', metrics=['acc'])\n",
    "history = model.fit(x_train, y_train, epochs=10, batch_size=128, validation_split=0.2)\n",
    "\n",
    "\n",
    "acc = history.history['acc']\n",
    "val_acc = history.history['val_acc']\n",
    "loss = history.history['loss']\n",
    "val_loss = history.history['val_loss']\n",
    "epochs = range(1, len(acc) + 1)\n",
    "\n",
    "plt.plot(epochs, acc, 'bo', label = 'Training acc')\n",
    "plt.plot(epochs, val_acc, 'b', label = 'Validation acc')\n",
    "plt.title(\"Training & Validation Accuracy\")\n",
    "plt.legend()\n",
    "\n",
    "plt.figure()\n",
    "\n",
    "plt.plot(epochs, loss, 'bo', label = 'Training Loss')\n",
    "plt.plot(epochs, val_loss, 'b', label = 'Validation Loss')\n",
    "plt.title(\"Training & Validation Loss\")\n",
    "plt.legend()\n",
    "\n",
    "plt.show()"
   ]
  },
  {
   "cell_type": "code",
   "execution_count": 51,
   "metadata": {},
   "outputs": [
    {
     "name": "stdout",
     "output_type": "stream",
     "text": [
      "_________________________________________________________________\n",
      "Layer (type)                 Output Shape              Param #   \n",
      "=================================================================\n",
      "bidirectional_5 (Bidirection (None, 64)                9024      \n",
      "_________________________________________________________________\n",
      "dense_20 (Dense)             (None, 1)                 65        \n",
      "=================================================================\n",
      "Total params: 9,089\n",
      "Trainable params: 9,089\n",
      "Non-trainable params: 0\n",
      "_________________________________________________________________\n"
     ]
    }
   ],
   "source": [
    "######################## 6.44 Training a bidirectional GRU ################################################\n",
    "\n",
    "from keras.models import Sequential\n",
    "from keras import layers\n",
    "from keras.optimizers import RMSprop\n",
    "import matplotlib.pyplot as plt\n",
    "\n",
    "model = Sequential()\n",
    "model.add(layers.Bidirectional(layers.GRU(32),input_shape=(None, float_data.shape[-1])))\n",
    "model.add(layers.Dense(1))\n",
    "model.summary()\n",
    "model.compile(optimizer=RMSprop(), loss='mae')\n",
    "history = model.fit_generator(train_gen, \n",
    "                              epochs=20, \n",
    "                              steps_per_epoch=500, \n",
    "                              validation_data=val_gen, \n",
    "                              validation_steps=val_steps)\n",
    "\n",
    "\n",
    "loss = history.history['loss']\n",
    "val_loss = history.history['val_loss']\n",
    "\n",
    "epochs = range(1, len(loss) + 1)\n",
    "\n",
    "plt.figure()\n",
    "\n",
    "plt.plot(epochs, loss, 'bo', label='training loss')\n",
    "plt.plot(epochs, val_loss, 'b', label='validation loss')\n",
    "plt.title('Training & Validation loss')\n",
    "plt.legend()\n",
    "\n",
    "plt.show()\n"
   ]
  },
  {
   "cell_type": "markdown",
   "metadata": {},
   "source": [
    "######################## 6.4.2 1D pooling for sequence data ################################################\n",
    "\n",
    "1D pooling operation is equivalent to 2D pooling operation. i.e. 1D pooling extracting patches 1D from an input\n",
    "and outputting the maximum value(max pooling) or average value (average pooling).\n",
    "Just as with 2D convnets, 1D convnet is used for reducing the length of 1D inputs (subsampling).\n",
    "\n",
    "In Keras, you use a 1D convnet via the Conv1D layer, which has an interface similar to Conv2D. It takes as input 3D tensors with shape (samples, time, features) and returns similarly shaped 3D tensors. The convolution window is a 1D window on the temporal axis: axis 1 in the input tensor.\n",
    "\n",
    "Let’s build a simple two-layer 1D convnet and apply it to the IMDB sentimentclassification task.\n",
    "\n",
    "1Dconvnets are structured in the same way as their 2D counterparts. they consist of a stack of Conv1D and MaxPooling1D layers ending in either a global pooling layer or a layer Flatten that turn the 3D outputs into 2D outputs, allowing you to add one or more Dense layers to the model for classification or regression.\n",
    "\n",
    "Difference between 1D and 2D covnet is with 1D you can afford to use larger convolution windows with 1D convnets.\n",
    "For instance, With a 2D convolution layer, a 3 × 3 convolution window contains 3 × 3 = 9 feature vectors, but with a 1D convolution layer, a convolution window of size 3 contains only 3 feature vectors.\n",
    "thus easily afford 1D convolution windows of size 7 or 9.\n"
   ]
  },
  {
   "cell_type": "code",
   "execution_count": 56,
   "metadata": {},
   "outputs": [
    {
     "name": "stdout",
     "output_type": "stream",
     "text": [
      "_________________________________________________________________\n",
      "Layer (type)                 Output Shape              Param #   \n",
      "=================================================================\n",
      "embedding_10 (Embedding)     (None, 500, 128)          1280000   \n",
      "_________________________________________________________________\n",
      "conv1d_7 (Conv1D)            (None, 494, 32)           28704     \n",
      "_________________________________________________________________\n",
      "max_pooling1d_4 (MaxPooling1 (None, 98, 32)            0         \n",
      "_________________________________________________________________\n",
      "conv1d_8 (Conv1D)            (None, 92, 32)            7200      \n",
      "_________________________________________________________________\n",
      "global_max_pooling1d_4 (Glob (None, 32)                0         \n",
      "_________________________________________________________________\n",
      "dense_24 (Dense)             (None, 1)                 33        \n",
      "=================================================================\n",
      "Total params: 1,315,937\n",
      "Trainable params: 1,315,937\n",
      "Non-trainable params: 0\n",
      "_________________________________________________________________\n",
      "Train on 20000 samples, validate on 5000 samples\n",
      "Epoch 1/10\n",
      "20000/20000 [==============================] - 67s 3ms/step - loss: 0.7177 - acc: 0.5264 - val_loss: 0.6819 - val_acc: 0.6010\n",
      "Epoch 2/10\n",
      "20000/20000 [==============================] - 70s 4ms/step - loss: 0.6629 - acc: 0.6625 - val_loss: 0.6616 - val_acc: 0.6604\n",
      "Epoch 3/10\n",
      "20000/20000 [==============================] - 71s 4ms/step - loss: 0.6198 - acc: 0.7503 - val_loss: 0.6104 - val_acc: 0.7362\n",
      "Epoch 4/10\n",
      "20000/20000 [==============================] - 68s 3ms/step - loss: 0.5310 - acc: 0.8034 - val_loss: 0.4963 - val_acc: 0.8036\n",
      "Epoch 5/10\n",
      "20000/20000 [==============================] - 70s 4ms/step - loss: 0.4223 - acc: 0.8437 - val_loss: 0.4435 - val_acc: 0.8228\n",
      "Epoch 6/10\n",
      "20000/20000 [==============================] - 71s 4ms/step - loss: 0.3587 - acc: 0.8684 - val_loss: 0.4121 - val_acc: 0.8460\n",
      "Epoch 7/10\n",
      "20000/20000 [==============================] - 72s 4ms/step - loss: 0.3132 - acc: 0.8789 - val_loss: 0.3985 - val_acc: 0.8492\n",
      "Epoch 8/10\n",
      "20000/20000 [==============================] - 73s 4ms/step - loss: 0.2782 - acc: 0.8751 - val_loss: 0.4008 - val_acc: 0.8374\n",
      "Epoch 9/10\n",
      "20000/20000 [==============================] - 74s 4ms/step - loss: 0.2495 - acc: 0.8690 - val_loss: 0.4047 - val_acc: 0.8256\n",
      "Epoch 10/10\n",
      "20000/20000 [==============================] - 75s 4ms/step - loss: 0.2276 - acc: 0.8441 - val_loss: 0.4437 - val_acc: 0.7922\n"
     ]
    },
    {
     "data": {
      "image/png": "[encoded data removed]",
      "text/plain": [
       "<Figure size 432x288 with 1 Axes>"
      ]
     },
     "metadata": {},
     "output_type": "display_data"
    },
    {
     "data": {
      "image/png": "[encoded data removed]",
      "text/plain": [
       "<Figure size 432x288 with 1 Axes>"
      ]
     },
     "metadata": {},
     "output_type": "display_data"
    }
   ],
   "source": [
    "######################## 6.45 Preparing the IMDB data ################################################\n",
    "\n",
    "from keras.datasets import imdb\n",
    "from keras.preprocessing import sequence\n",
    "from keras.models import Sequential\n",
    "from keras.optimizers import RMSprop\n",
    "from keras import layers\n",
    "import matplotlib.pyplot as plt\n",
    "\n",
    "\n",
    "max_features = 10000\n",
    "maxlen = 500\n",
    "\n",
    "# (x_train, y_train), (x_test, y_test) = imdb.load_data(num_words=max_features)\n",
    "\n",
    "# x_train = sequence.pad_sequences(x_train, maxlen=maxlen)\n",
    "# x_test = sequence.pad_sequences(x_test, maxlen=maxlen)\n",
    "\n",
    "######################## 6.46 Training and evaluating a simple 1D convnet on the IMDB data ###################\n",
    "\n",
    "model = Sequential()\n",
    "model.add(layers.Embedding(max_features, 128, input_length=maxlen))\n",
    "model.add(layers.Conv1D(32, 7, activation='relu'))\n",
    "model.add(layers.MaxPooling1D(5))\n",
    "model.add(layers.Conv1D(32, 7, activation='relu'))\n",
    "model.add(layers.GlobalMaxPool1D())\n",
    "model.add(layers.Dense(1))\n",
    "model.summary()\n",
    "\n",
    "model.compile(optimizer=RMSprop(lr=1e-4), loss='binary_crossentropy', metrics=['acc'])\n",
    "history = model.fit(x_train, y_train, epochs=10, batch_size=128, validation_split=0.2)\n",
    "### Validation Accuracy = 79.22%\n",
    "\n",
    "acc = history.history['acc']\n",
    "val_acc = history.history['val_acc']\n",
    "loss = history.history['loss']\n",
    "val_loss = history.history['val_loss']\n",
    "epochs = range(1, len(acc) + 1)\n",
    "\n",
    "plt.plot(epochs, acc, 'bo', label = 'Training acc')\n",
    "plt.plot(epochs, val_acc, 'b', label = 'Validation acc')\n",
    "plt.title(\"Training & Validation Accuracy\")\n",
    "plt.legend()\n",
    "\n",
    "plt.figure()\n",
    "\n",
    "plt.plot(epochs, loss, 'bo', label = 'Training Loss')\n",
    "plt.plot(epochs, val_loss, 'b', label = 'Validation Loss')\n",
    "plt.title(\"Training & Validation Loss\")\n",
    "plt.legend()\n",
    "\n",
    "plt.show()\n"
   ]
  },
  {
   "cell_type": "code",
   "execution_count": 59,
   "metadata": {},
   "outputs": [
    {
     "name": "stdout",
     "output_type": "stream",
     "text": [
      "Test Accuracy:  0.77576\n"
     ]
    }
   ],
   "source": [
    "\n",
    "# results = model.evaluate(x_test, y_test)\n",
    "test_loss, test_acc = results\n",
    "print('Test Accuracy: ', test_acc)"
   ]
  },
  {
   "cell_type": "markdown",
   "metadata": {},
   "source": [
    "#################### 6.4.4 Combining CNNs and RNNs to process long sequences #########################\n",
    "\n",
    "As convnets process input patches independently, they aren’t sensitive to the 1D order of the timesteps.\n",
    "the 1D convnet looks for patterns any where in the input timeseries and has no knowledge of the temporal position of a pattern it sees. as a result, more recent data points should be interpreted differently from older data points in the case of this specific forecasting problem. the convnet fails at producing meaningful results and this limitation of convnets.\n",
    "\n",
    "Let's combine the speed and lightness of convnets with the order-sensitivity of RNNs is to use a 1D convnet as preprocessing step before an RNN.\n"
   ]
  },
  {
   "cell_type": "code",
   "execution_count": 61,
   "metadata": {},
   "outputs": [],
   "source": [
    "#################### 6.48 Higher-resolution data generators for the dataset ###############\n",
    "\n",
    "lookback = 720\n",
    "step = 3\n",
    "delay = 144\n",
    "\n",
    "\n",
    "train_gen = generator(float_data, \n",
    "                      lookback = lookback, \n",
    "                      delay = delay, \n",
    "                      min_index = 0, \n",
    "                      max_index = 200000, \n",
    "                      shuffle=True,  \n",
    "                      step=step)\n",
    "\n",
    "val_gen = generator(float_data, \n",
    "                      lookback = lookback, \n",
    "                      delay = delay, \n",
    "                      min_index = 200001, \n",
    "                      max_index = 300000, \n",
    "                      shuffle=True, \n",
    "                      step=step)\n",
    "\n",
    "test_gen = generator(float_data, \n",
    "                      lookback = lookback, \n",
    "                      delay = delay, \n",
    "                      min_index = 300001, \n",
    "                      max_index = None, \n",
    "                      shuffle=True, \n",
    "                      step=step)\n",
    "\n",
    "val_steps = (300000 -200001 - lookback)\n",
    "val_steps = (len(float_data) - 300001 - lookback)"
   ]
  },
  {
   "cell_type": "code",
   "execution_count": 63,
   "metadata": {},
   "outputs": [
    {
     "name": "stdout",
     "output_type": "stream",
     "text": [
      "_________________________________________________________________\n",
      "Layer (type)                 Output Shape              Param #   \n",
      "=================================================================\n",
      "conv1d_11 (Conv1D)           (None, None, 32)          2272      \n",
      "_________________________________________________________________\n",
      "max_pooling1d_6 (MaxPooling1 (None, None, 32)          0         \n",
      "_________________________________________________________________\n",
      "conv1d_12 (Conv1D)           (None, None, 32)          5152      \n",
      "_________________________________________________________________\n",
      "gru_19 (GRU)                 (None, 32)                6240      \n",
      "_________________________________________________________________\n",
      "dense_26 (Dense)             (None, 1)                 33        \n",
      "=================================================================\n",
      "Total params: 13,697\n",
      "Trainable params: 13,697\n",
      "Non-trainable params: 0\n",
      "_________________________________________________________________\n"
     ]
    }
   ],
   "source": [
    "#################### 6.49 Model combining a 1D convolutional base and a GRU layer ###############\n",
    "\n",
    "from keras.models import Sequential\n",
    "from keras import layers\n",
    "from keras.optimizers import RMSprop\n",
    "import matplotlib.pyplot as plt\n",
    "\n",
    "model = Sequential()\n",
    "model.add(layers.Conv1D(32, 5, activation='relu', input_shape=(None, float_data.shape[-1])))\n",
    "model.add(layers.MaxPooling1D(3))\n",
    "model.add(layers.Conv1D(32, 5, activation='relu'))\n",
    "model.add(layers.GRU(32, dropout=0.1, recurrent_dropout=0.5))\n",
    "model.add(layers.Dense(1))\n",
    "model.summary()\n",
    "model.compile(optimizer=RMSprop(), loss='mae')\n",
    "history = model.fit_generator(train_gen, \n",
    "                              epochs=20, \n",
    "                              steps_per_epoch=500, \n",
    "                              validation_data=val_gen, \n",
    "                              validation_steps=val_steps)\n",
    "\n",
    "\n",
    "loss = history.history['loss']\n",
    "val_loss = history.history['val_loss']\n",
    "\n",
    "epochs = range(1, len(loss) + 1)\n",
    "\n",
    "plt.figure()\n",
    "\n",
    "plt.plot(epochs, loss, 'bo', label='training loss')\n",
    "plt.plot(epochs, val_loss, 'b', label='validation loss')\n",
    "plt.title('Training & Validation loss')\n",
    "plt.legend()\n",
    "\n",
    "plt.show()\n"
   ]
  }
 ],
 "metadata": {
  "kernelspec": {
   "display_name": "Python 3",
   "language": "python",
   "name": "python3"
  },
  "language_info": {
   "codemirror_mode": {
    "name": "ipython",
    "version": 3
   },
   "file_extension": ".py",
   "mimetype": "text/x-python",
   "name": "python",
   "nbconvert_exporter": "python",
   "pygments_lexer": "ipython3",
   "version": "3.6.5"
  }
 },
 "nbformat": 4,
 "nbformat_minor": 2
}
